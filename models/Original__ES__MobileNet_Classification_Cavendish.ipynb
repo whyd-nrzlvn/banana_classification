{
  "cells": [
    {
      "cell_type": "markdown",
      "metadata": {
        "id": "view-in-github",
        "colab_type": "text"
      },
      "source": [
        "<a href=\"https://colab.research.google.com/github/whyd-nrzlvn/banana_classification/blob/main/models/Original__ES__MobileNet_Classification_Cavendish.ipynb\" target=\"_parent\"><img src=\"https://colab.research.google.com/assets/colab-badge.svg\" alt=\"Open In Colab\"/></a>"
      ]
    },
    {
      "cell_type": "markdown",
      "metadata": {
        "id": "a3HQCy93hlXn"
      },
      "source": []
    },
    {
      "cell_type": "markdown",
      "metadata": {
        "id": "F56HquBzWeCv"
      },
      "source": [
        "## Import Dataset"
      ]
    },
    {
      "cell_type": "markdown",
      "metadata": {
        "id": "9-Kt8vrmodFd"
      },
      "source": []
    },
    {
      "cell_type": "code",
      "execution_count": null,
      "metadata": {
        "colab": {
          "base_uri": "https://localhost:8080/"
        },
        "id": "G4IPjA-CU6Je",
        "outputId": "a15020d8-64d2-4ccc-f0e7-9de2ea9bce2a"
      },
      "outputs": [
        {
          "output_type": "stream",
          "name": "stdout",
          "text": [
            "3.10.12 (main, Nov 20 2023, 15:14:05) [GCC 11.4.0]\n"
          ]
        }
      ],
      "source": [
        "import sys\n",
        "print(sys.version)"
      ]
    },
    {
      "cell_type": "code",
      "execution_count": null,
      "metadata": {
        "colab": {
          "base_uri": "https://localhost:8080/"
        },
        "id": "B_6U0tZUpCrV",
        "outputId": "f0ad6557-c4f7-4c75-9321-ce6c007fa9fb"
      },
      "outputs": [
        {
          "output_type": "stream",
          "name": "stdout",
          "text": [
            "Mounted at /content/drive\n"
          ]
        }
      ],
      "source": [
        "from google.colab import drive\n",
        "drive.mount('/content/drive')"
      ]
    },
    {
      "cell_type": "markdown",
      "metadata": {
        "id": "aC7IrUU-bKSJ"
      },
      "source": [
        "## Import Packages\n",
        "\n"
      ]
    },
    {
      "cell_type": "code",
      "execution_count": null,
      "metadata": {
        "id": "WAo5oPBlbWSc"
      },
      "outputs": [],
      "source": [
        "# import packages\n",
        "import numpy as np\n",
        "import tensorflow as tf\n",
        "from tensorflow.keras.preprocessing.image import ImageDataGenerator\n",
        "from tensorflow.keras.optimizers import Adam, RMSprop, SGD\n",
        "from tensorflow.keras.layers import Dense, MaxPooling2D, Dropout, Conv2D, Flatten\n",
        "from tensorflow.keras.models import Sequential\n",
        "from tensorflow.keras.metrics import Recall, Precision\n",
        "from tensorflow.keras.callbacks import EarlyStopping\n",
        "import matplotlib.pyplot as plt\n",
        "import seaborn as sns"
      ]
    },
    {
      "cell_type": "markdown",
      "metadata": {
        "id": "NZQKv04CWgt_"
      },
      "source": [
        "## Generate Dataset\n"
      ]
    },
    {
      "cell_type": "code",
      "execution_count": null,
      "metadata": {
        "id": "pDtrturHWVun"
      },
      "outputs": [],
      "source": [
        "# directory dataset training dan validation\n",
        "dir = '/content/drive/MyDrive/Skripsi/DataPisang1000'\n",
        "\n",
        "# image size\n",
        "img_width, img_height, channel = (224, 224, 3)"
      ]
    },
    {
      "cell_type": "markdown",
      "metadata": {
        "id": "HW80mXGAqGBS"
      },
      "source": [
        "# **Melakukan Data Generator**"
      ]
    },
    {
      "cell_type": "markdown",
      "metadata": {
        "id": "jwEBzY4qqPIR"
      },
      "source": [
        "**Data Generator pada train dataset**"
      ]
    },
    {
      "cell_type": "code",
      "execution_count": null,
      "metadata": {
        "colab": {
          "base_uri": "https://localhost:8080/"
        },
        "id": "CG6ve-s0qFj9",
        "outputId": "04c6b302-6a5e-4f57-f937-9951650b5582"
      },
      "outputs": [
        {
          "output_type": "stream",
          "name": "stdout",
          "text": [
            "Found 800 images belonging to 3 classes.\n"
          ]
        }
      ],
      "source": [
        "# melakukan Data Generator pada train dataset\n",
        "datagen = ImageDataGenerator(\n",
        "    rescale = 1./255,\n",
        "    horizontal_flip=True,\n",
        "    vertical_flip=True,\n",
        "    zoom_range=0.2,\n",
        "    validation_split = 0.20,\n",
        ")\n",
        "\n",
        "train_data = datagen.flow_from_directory(\n",
        "    dir,\n",
        "    target_size = (img_width, img_height),\n",
        "    batch_size = 32,\n",
        "    shuffle=True,\n",
        "    subset='training',\n",
        "    class_mode = 'categorical'\n",
        ")\n",
        "\n",
        "valid_data = datagen.flow_from_directory(\n",
        "    dir,\n",
        "    target_size = (img_width, img_height),\n",
        "    batch_size = 32,\n",
        "    shuffle=False,\n",
        "    subset='validation',\n",
        "    class_mode = 'categorical'\n",
        ")"
      ]
    },
    {
      "cell_type": "markdown",
      "source": [
        "**Menyimpan Hasil Data Generator**"
      ],
      "metadata": {
        "id": "tnlrin_wE5HU"
      }
    },
    {
      "cell_type": "code",
      "source": [
        "from PIL import Image #nb\n",
        "import os\n",
        "import shutil\n",
        "\n",
        "#Menyimpan gambar ke Google Drive\n",
        "def save_to_drive(image_path, folder_path):\n",
        "    # Copy gambar ke Google Drive\n",
        "    shutil.copy(image_path, folder_path)\n",
        "\n",
        "#Menyimpan 60 gambar hasil dari valid_data ke Google Drive, bisa di atur sesuai keinginan\n",
        "i = 0\n",
        "for batch, labels in train_data:\n",
        "    images_per_class = {}  # Dictionary untuk melacak jumlah gambar yang disimpan dalam setiap kelas\n",
        "\n",
        "    for idx, (img, label) in enumerate(zip(batch, labels)):\n",
        "        if i >= 60:  # Menyimpan hanya 60 gambar\n",
        "            break  # Berhenti jika sudah menyimpan sebanyak yang diinginkan\n",
        "\n",
        "        # Mendapatkan label kelas\n",
        "        class_index = label.argmax()\n",
        "\n",
        "        # Membuat nama folder berdasarkan label kelas\n",
        "        folder_name = f'{class_index}'\n",
        "\n",
        "        # Path folder sesuai dengan kelas\n",
        "        folder_path = os.path.join('/content/drive/MyDrive/Skripsi/dataImage', folder_name)\n",
        "\n",
        "        # Jika folder belum ada, buat folder baru\n",
        "        if not os.path.exists(folder_path):\n",
        "            os.makedirs(folder_path)\n",
        "\n",
        "        # Nama file untuk disimpan secara sementara\n",
        "        image_path = f'/content/augmented_image_{i}.jpg'\n",
        "\n",
        "        # Simpan gambar dalam format JPEG\n",
        "        Image.fromarray((img * 255).astype(np.uint8)).save(image_path)\n",
        "\n",
        "        # Menyimpan gambar ke folder yang sesuai dengan kelasnya\n",
        "        save_to_drive(image_path, folder_path)\n",
        "\n",
        "        # Hapus gambar sementara setelah diunggah\n",
        "        os.remove(image_path)\n",
        "\n",
        "        # Menambahkan jumlah gambar yang disimpan dalam kelas ini\n",
        "        images_per_class[class_index] = images_per_class.get(class_index, 0) + 1\n",
        "\n",
        "        i += 1\n",
        "\n",
        "    # Memeriksa apakah setiap folder kelas berisi tepat 20 gambar\n",
        "    if all(images == 20 for images in images_per_class.values()):\n",
        "        break  # Berhenti jika setiap folder kelas sudah berisi 20 gambar\n"
      ],
      "metadata": {
        "id": "yZzhqqbbE3Mm"
      },
      "execution_count": null,
      "outputs": []
    },
    {
      "cell_type": "code",
      "execution_count": null,
      "metadata": {
        "colab": {
          "base_uri": "https://localhost:8080/"
        },
        "id": "mOi6y5AIqrE1",
        "outputId": "48e30ab6-e158-4701-9755-aa8378a8f0db"
      },
      "outputs": [
        {
          "output_type": "execute_result",
          "data": {
            "text/plain": [
              "{'busuk': 0, 'masak': 1, 'mentah': 2}"
            ]
          },
          "metadata": {},
          "execution_count": 6
        }
      ],
      "source": [
        "classes = train_data.class_indices\n",
        "classes"
      ]
    },
    {
      "cell_type": "code",
      "source": [
        "labels = [k for k in train_data.class_indices]\n",
        "sample_generate = train_data.__next__()\n",
        "images = sample_generate[0]\n",
        "titles = sample_generate[1]\n",
        "plt.figure(figsize = (20 , 20))\n",
        "\n",
        "for i in range(15):\n",
        "    plt.subplot(5 , 5, i+1)\n",
        "    plt.subplots_adjust(hspace = 0.3 , wspace = 0.3)\n",
        "    plt.imshow(images[i])\n",
        "    plt.title(f'Class: {labels[np.argmax(titles[i],axis=0)]}')\n",
        "    plt.axis(\"off\")"
      ],
      "metadata": {
        "id": "ihhEm4ZZzgtL"
      },
      "execution_count": null,
      "outputs": []
    },
    {
      "cell_type": "markdown",
      "metadata": {
        "id": "jSwElXpYWj6X"
      },
      "source": [
        "**Membuat Model**"
      ]
    },
    {
      "cell_type": "code",
      "execution_count": null,
      "metadata": {
        "colab": {
          "base_uri": "https://localhost:8080/"
        },
        "id": "GisrNVv1bnq6",
        "outputId": "027b0c72-a485-4ad0-fd36-abd6f595e371"
      },
      "outputs": [
        {
          "output_type": "stream",
          "name": "stdout",
          "text": [
            "Downloading data from https://storage.googleapis.com/tensorflow/keras-applications/mobilenet/mobilenet_1_0_224_tf.h5\n",
            "17225924/17225924 [==============================] - 0s 0us/step\n",
            "Model: \"mobilenet_1.00_224\"\n",
            "_________________________________________________________________\n",
            " Layer (type)                Output Shape              Param #   \n",
            "=================================================================\n",
            " input_1 (InputLayer)        [(None, 224, 224, 3)]     0         \n",
            "                                                                 \n",
            " conv1 (Conv2D)              (None, 112, 112, 32)      864       \n",
            "                                                                 \n",
            " conv1_bn (BatchNormalizati  (None, 112, 112, 32)      128       \n",
            " on)                                                             \n",
            "                                                                 \n",
            " conv1_relu (ReLU)           (None, 112, 112, 32)      0         \n",
            "                                                                 \n",
            " conv_dw_1 (DepthwiseConv2D  (None, 112, 112, 32)      288       \n",
            " )                                                               \n",
            "                                                                 \n",
            " conv_dw_1_bn (BatchNormali  (None, 112, 112, 32)      128       \n",
            " zation)                                                         \n",
            "                                                                 \n",
            " conv_dw_1_relu (ReLU)       (None, 112, 112, 32)      0         \n",
            "                                                                 \n",
            " conv_pw_1 (Conv2D)          (None, 112, 112, 64)      2048      \n",
            "                                                                 \n",
            " conv_pw_1_bn (BatchNormali  (None, 112, 112, 64)      256       \n",
            " zation)                                                         \n",
            "                                                                 \n",
            " conv_pw_1_relu (ReLU)       (None, 112, 112, 64)      0         \n",
            "                                                                 \n",
            " conv_pad_2 (ZeroPadding2D)  (None, 113, 113, 64)      0         \n",
            "                                                                 \n",
            " conv_dw_2 (DepthwiseConv2D  (None, 56, 56, 64)        576       \n",
            " )                                                               \n",
            "                                                                 \n",
            " conv_dw_2_bn (BatchNormali  (None, 56, 56, 64)        256       \n",
            " zation)                                                         \n",
            "                                                                 \n",
            " conv_dw_2_relu (ReLU)       (None, 56, 56, 64)        0         \n",
            "                                                                 \n",
            " conv_pw_2 (Conv2D)          (None, 56, 56, 128)       8192      \n",
            "                                                                 \n",
            " conv_pw_2_bn (BatchNormali  (None, 56, 56, 128)       512       \n",
            " zation)                                                         \n",
            "                                                                 \n",
            " conv_pw_2_relu (ReLU)       (None, 56, 56, 128)       0         \n",
            "                                                                 \n",
            " conv_dw_3 (DepthwiseConv2D  (None, 56, 56, 128)       1152      \n",
            " )                                                               \n",
            "                                                                 \n",
            " conv_dw_3_bn (BatchNormali  (None, 56, 56, 128)       512       \n",
            " zation)                                                         \n",
            "                                                                 \n",
            " conv_dw_3_relu (ReLU)       (None, 56, 56, 128)       0         \n",
            "                                                                 \n",
            " conv_pw_3 (Conv2D)          (None, 56, 56, 128)       16384     \n",
            "                                                                 \n",
            " conv_pw_3_bn (BatchNormali  (None, 56, 56, 128)       512       \n",
            " zation)                                                         \n",
            "                                                                 \n",
            " conv_pw_3_relu (ReLU)       (None, 56, 56, 128)       0         \n",
            "                                                                 \n",
            " conv_pad_4 (ZeroPadding2D)  (None, 57, 57, 128)       0         \n",
            "                                                                 \n",
            " conv_dw_4 (DepthwiseConv2D  (None, 28, 28, 128)       1152      \n",
            " )                                                               \n",
            "                                                                 \n",
            " conv_dw_4_bn (BatchNormali  (None, 28, 28, 128)       512       \n",
            " zation)                                                         \n",
            "                                                                 \n",
            " conv_dw_4_relu (ReLU)       (None, 28, 28, 128)       0         \n",
            "                                                                 \n",
            " conv_pw_4 (Conv2D)          (None, 28, 28, 256)       32768     \n",
            "                                                                 \n",
            " conv_pw_4_bn (BatchNormali  (None, 28, 28, 256)       1024      \n",
            " zation)                                                         \n",
            "                                                                 \n",
            " conv_pw_4_relu (ReLU)       (None, 28, 28, 256)       0         \n",
            "                                                                 \n",
            " conv_dw_5 (DepthwiseConv2D  (None, 28, 28, 256)       2304      \n",
            " )                                                               \n",
            "                                                                 \n",
            " conv_dw_5_bn (BatchNormali  (None, 28, 28, 256)       1024      \n",
            " zation)                                                         \n",
            "                                                                 \n",
            " conv_dw_5_relu (ReLU)       (None, 28, 28, 256)       0         \n",
            "                                                                 \n",
            " conv_pw_5 (Conv2D)          (None, 28, 28, 256)       65536     \n",
            "                                                                 \n",
            " conv_pw_5_bn (BatchNormali  (None, 28, 28, 256)       1024      \n",
            " zation)                                                         \n",
            "                                                                 \n",
            " conv_pw_5_relu (ReLU)       (None, 28, 28, 256)       0         \n",
            "                                                                 \n",
            " conv_pad_6 (ZeroPadding2D)  (None, 29, 29, 256)       0         \n",
            "                                                                 \n",
            " conv_dw_6 (DepthwiseConv2D  (None, 14, 14, 256)       2304      \n",
            " )                                                               \n",
            "                                                                 \n",
            " conv_dw_6_bn (BatchNormali  (None, 14, 14, 256)       1024      \n",
            " zation)                                                         \n",
            "                                                                 \n",
            " conv_dw_6_relu (ReLU)       (None, 14, 14, 256)       0         \n",
            "                                                                 \n",
            " conv_pw_6 (Conv2D)          (None, 14, 14, 512)       131072    \n",
            "                                                                 \n",
            " conv_pw_6_bn (BatchNormali  (None, 14, 14, 512)       2048      \n",
            " zation)                                                         \n",
            "                                                                 \n",
            " conv_pw_6_relu (ReLU)       (None, 14, 14, 512)       0         \n",
            "                                                                 \n",
            " conv_dw_7 (DepthwiseConv2D  (None, 14, 14, 512)       4608      \n",
            " )                                                               \n",
            "                                                                 \n",
            " conv_dw_7_bn (BatchNormali  (None, 14, 14, 512)       2048      \n",
            " zation)                                                         \n",
            "                                                                 \n",
            " conv_dw_7_relu (ReLU)       (None, 14, 14, 512)       0         \n",
            "                                                                 \n",
            " conv_pw_7 (Conv2D)          (None, 14, 14, 512)       262144    \n",
            "                                                                 \n",
            " conv_pw_7_bn (BatchNormali  (None, 14, 14, 512)       2048      \n",
            " zation)                                                         \n",
            "                                                                 \n",
            " conv_pw_7_relu (ReLU)       (None, 14, 14, 512)       0         \n",
            "                                                                 \n",
            " conv_dw_8 (DepthwiseConv2D  (None, 14, 14, 512)       4608      \n",
            " )                                                               \n",
            "                                                                 \n",
            " conv_dw_8_bn (BatchNormali  (None, 14, 14, 512)       2048      \n",
            " zation)                                                         \n",
            "                                                                 \n",
            " conv_dw_8_relu (ReLU)       (None, 14, 14, 512)       0         \n",
            "                                                                 \n",
            " conv_pw_8 (Conv2D)          (None, 14, 14, 512)       262144    \n",
            "                                                                 \n",
            " conv_pw_8_bn (BatchNormali  (None, 14, 14, 512)       2048      \n",
            " zation)                                                         \n",
            "                                                                 \n",
            " conv_pw_8_relu (ReLU)       (None, 14, 14, 512)       0         \n",
            "                                                                 \n",
            " conv_dw_9 (DepthwiseConv2D  (None, 14, 14, 512)       4608      \n",
            " )                                                               \n",
            "                                                                 \n",
            " conv_dw_9_bn (BatchNormali  (None, 14, 14, 512)       2048      \n",
            " zation)                                                         \n",
            "                                                                 \n",
            " conv_dw_9_relu (ReLU)       (None, 14, 14, 512)       0         \n",
            "                                                                 \n",
            " conv_pw_9 (Conv2D)          (None, 14, 14, 512)       262144    \n",
            "                                                                 \n",
            " conv_pw_9_bn (BatchNormali  (None, 14, 14, 512)       2048      \n",
            " zation)                                                         \n",
            "                                                                 \n",
            " conv_pw_9_relu (ReLU)       (None, 14, 14, 512)       0         \n",
            "                                                                 \n",
            " conv_dw_10 (DepthwiseConv2  (None, 14, 14, 512)       4608      \n",
            " D)                                                              \n",
            "                                                                 \n",
            " conv_dw_10_bn (BatchNormal  (None, 14, 14, 512)       2048      \n",
            " ization)                                                        \n",
            "                                                                 \n",
            " conv_dw_10_relu (ReLU)      (None, 14, 14, 512)       0         \n",
            "                                                                 \n",
            " conv_pw_10 (Conv2D)         (None, 14, 14, 512)       262144    \n",
            "                                                                 \n",
            " conv_pw_10_bn (BatchNormal  (None, 14, 14, 512)       2048      \n",
            " ization)                                                        \n",
            "                                                                 \n",
            " conv_pw_10_relu (ReLU)      (None, 14, 14, 512)       0         \n",
            "                                                                 \n",
            " conv_dw_11 (DepthwiseConv2  (None, 14, 14, 512)       4608      \n",
            " D)                                                              \n",
            "                                                                 \n",
            " conv_dw_11_bn (BatchNormal  (None, 14, 14, 512)       2048      \n",
            " ization)                                                        \n",
            "                                                                 \n",
            " conv_dw_11_relu (ReLU)      (None, 14, 14, 512)       0         \n",
            "                                                                 \n",
            " conv_pw_11 (Conv2D)         (None, 14, 14, 512)       262144    \n",
            "                                                                 \n",
            " conv_pw_11_bn (BatchNormal  (None, 14, 14, 512)       2048      \n",
            " ization)                                                        \n",
            "                                                                 \n",
            " conv_pw_11_relu (ReLU)      (None, 14, 14, 512)       0         \n",
            "                                                                 \n",
            " conv_pad_12 (ZeroPadding2D  (None, 15, 15, 512)       0         \n",
            " )                                                               \n",
            "                                                                 \n",
            " conv_dw_12 (DepthwiseConv2  (None, 7, 7, 512)         4608      \n",
            " D)                                                              \n",
            "                                                                 \n",
            " conv_dw_12_bn (BatchNormal  (None, 7, 7, 512)         2048      \n",
            " ization)                                                        \n",
            "                                                                 \n",
            " conv_dw_12_relu (ReLU)      (None, 7, 7, 512)         0         \n",
            "                                                                 \n",
            " conv_pw_12 (Conv2D)         (None, 7, 7, 1024)        524288    \n",
            "                                                                 \n",
            " conv_pw_12_bn (BatchNormal  (None, 7, 7, 1024)        4096      \n",
            " ization)                                                        \n",
            "                                                                 \n",
            " conv_pw_12_relu (ReLU)      (None, 7, 7, 1024)        0         \n",
            "                                                                 \n",
            " conv_dw_13 (DepthwiseConv2  (None, 7, 7, 1024)        9216      \n",
            " D)                                                              \n",
            "                                                                 \n",
            " conv_dw_13_bn (BatchNormal  (None, 7, 7, 1024)        4096      \n",
            " ization)                                                        \n",
            "                                                                 \n",
            " conv_dw_13_relu (ReLU)      (None, 7, 7, 1024)        0         \n",
            "                                                                 \n",
            " conv_pw_13 (Conv2D)         (None, 7, 7, 1024)        1048576   \n",
            "                                                                 \n",
            " conv_pw_13_bn (BatchNormal  (None, 7, 7, 1024)        4096      \n",
            " ization)                                                        \n",
            "                                                                 \n",
            " conv_pw_13_relu (ReLU)      (None, 7, 7, 1024)        0         \n",
            "                                                                 \n",
            " global_average_pooling2d (  (None, 1, 1, 1024)        0         \n",
            " GlobalAveragePooling2D)                                         \n",
            "                                                                 \n",
            " dropout (Dropout)           (None, 1, 1, 1024)        0         \n",
            "                                                                 \n",
            " conv_preds (Conv2D)         (None, 1, 1, 1000)        1025000   \n",
            "                                                                 \n",
            " reshape_2 (Reshape)         (None, 1000)              0         \n",
            "                                                                 \n",
            " predictions (Activation)    (None, 1000)              0         \n",
            "                                                                 \n",
            "=================================================================\n",
            "Total params: 4253864 (16.23 MB)\n",
            "Trainable params: 0 (0.00 Byte)\n",
            "Non-trainable params: 4253864 (16.23 MB)\n",
            "_________________________________________________________________\n"
          ]
        }
      ],
      "source": [
        "from tensorflow.keras.applications import DenseNet201, MobileNet, InceptionV3\n",
        "\n",
        "base_model = MobileNet(\n",
        "    input_shape=(img_width, img_height, 3),\n",
        "    include_top=True,\n",
        "    weights='imagenet'\n",
        ")\n",
        "\n",
        "for layer in base_model.layers:\n",
        "    layer.trainable = False\n",
        "\n",
        "base_model.summary()"
      ]
    },
    {
      "cell_type": "markdown",
      "metadata": {
        "id": "nREYOyWFq5Xh"
      },
      "source": [
        "**Modifikasi Pre trained model**"
      ]
    },
    {
      "cell_type": "code",
      "execution_count": null,
      "metadata": {
        "colab": {
          "base_uri": "https://localhost:8080/"
        },
        "id": "BaCRnJdBrDtd",
        "outputId": "41f58bfa-0e03-4652-c356-12cd188332be"
      },
      "outputs": [
        {
          "output_type": "stream",
          "name": "stdout",
          "text": [
            "Model: \"model\"\n",
            "_________________________________________________________________\n",
            " Layer (type)                Output Shape              Param #   \n",
            "=================================================================\n",
            " input_1 (InputLayer)        [(None, 224, 224, 3)]     0         \n",
            "                                                                 \n",
            " conv1 (Conv2D)              (None, 112, 112, 32)      864       \n",
            "                                                                 \n",
            " conv1_bn (BatchNormalizati  (None, 112, 112, 32)      128       \n",
            " on)                                                             \n",
            "                                                                 \n",
            " conv1_relu (ReLU)           (None, 112, 112, 32)      0         \n",
            "                                                                 \n",
            " conv_dw_1 (DepthwiseConv2D  (None, 112, 112, 32)      288       \n",
            " )                                                               \n",
            "                                                                 \n",
            " conv_dw_1_bn (BatchNormali  (None, 112, 112, 32)      128       \n",
            " zation)                                                         \n",
            "                                                                 \n",
            " conv_dw_1_relu (ReLU)       (None, 112, 112, 32)      0         \n",
            "                                                                 \n",
            " conv_pw_1 (Conv2D)          (None, 112, 112, 64)      2048      \n",
            "                                                                 \n",
            " conv_pw_1_bn (BatchNormali  (None, 112, 112, 64)      256       \n",
            " zation)                                                         \n",
            "                                                                 \n",
            " conv_pw_1_relu (ReLU)       (None, 112, 112, 64)      0         \n",
            "                                                                 \n",
            " conv_pad_2 (ZeroPadding2D)  (None, 113, 113, 64)      0         \n",
            "                                                                 \n",
            " conv_dw_2 (DepthwiseConv2D  (None, 56, 56, 64)        576       \n",
            " )                                                               \n",
            "                                                                 \n",
            " conv_dw_2_bn (BatchNormali  (None, 56, 56, 64)        256       \n",
            " zation)                                                         \n",
            "                                                                 \n",
            " conv_dw_2_relu (ReLU)       (None, 56, 56, 64)        0         \n",
            "                                                                 \n",
            " conv_pw_2 (Conv2D)          (None, 56, 56, 128)       8192      \n",
            "                                                                 \n",
            " conv_pw_2_bn (BatchNormali  (None, 56, 56, 128)       512       \n",
            " zation)                                                         \n",
            "                                                                 \n",
            " conv_pw_2_relu (ReLU)       (None, 56, 56, 128)       0         \n",
            "                                                                 \n",
            " conv_dw_3 (DepthwiseConv2D  (None, 56, 56, 128)       1152      \n",
            " )                                                               \n",
            "                                                                 \n",
            " conv_dw_3_bn (BatchNormali  (None, 56, 56, 128)       512       \n",
            " zation)                                                         \n",
            "                                                                 \n",
            " conv_dw_3_relu (ReLU)       (None, 56, 56, 128)       0         \n",
            "                                                                 \n",
            " conv_pw_3 (Conv2D)          (None, 56, 56, 128)       16384     \n",
            "                                                                 \n",
            " conv_pw_3_bn (BatchNormali  (None, 56, 56, 128)       512       \n",
            " zation)                                                         \n",
            "                                                                 \n",
            " conv_pw_3_relu (ReLU)       (None, 56, 56, 128)       0         \n",
            "                                                                 \n",
            " conv_pad_4 (ZeroPadding2D)  (None, 57, 57, 128)       0         \n",
            "                                                                 \n",
            " conv_dw_4 (DepthwiseConv2D  (None, 28, 28, 128)       1152      \n",
            " )                                                               \n",
            "                                                                 \n",
            " conv_dw_4_bn (BatchNormali  (None, 28, 28, 128)       512       \n",
            " zation)                                                         \n",
            "                                                                 \n",
            " conv_dw_4_relu (ReLU)       (None, 28, 28, 128)       0         \n",
            "                                                                 \n",
            " conv_pw_4 (Conv2D)          (None, 28, 28, 256)       32768     \n",
            "                                                                 \n",
            " conv_pw_4_bn (BatchNormali  (None, 28, 28, 256)       1024      \n",
            " zation)                                                         \n",
            "                                                                 \n",
            " conv_pw_4_relu (ReLU)       (None, 28, 28, 256)       0         \n",
            "                                                                 \n",
            " conv_dw_5 (DepthwiseConv2D  (None, 28, 28, 256)       2304      \n",
            " )                                                               \n",
            "                                                                 \n",
            " conv_dw_5_bn (BatchNormali  (None, 28, 28, 256)       1024      \n",
            " zation)                                                         \n",
            "                                                                 \n",
            " conv_dw_5_relu (ReLU)       (None, 28, 28, 256)       0         \n",
            "                                                                 \n",
            " conv_pw_5 (Conv2D)          (None, 28, 28, 256)       65536     \n",
            "                                                                 \n",
            " conv_pw_5_bn (BatchNormali  (None, 28, 28, 256)       1024      \n",
            " zation)                                                         \n",
            "                                                                 \n",
            " conv_pw_5_relu (ReLU)       (None, 28, 28, 256)       0         \n",
            "                                                                 \n",
            " conv_pad_6 (ZeroPadding2D)  (None, 29, 29, 256)       0         \n",
            "                                                                 \n",
            " conv_dw_6 (DepthwiseConv2D  (None, 14, 14, 256)       2304      \n",
            " )                                                               \n",
            "                                                                 \n",
            " conv_dw_6_bn (BatchNormali  (None, 14, 14, 256)       1024      \n",
            " zation)                                                         \n",
            "                                                                 \n",
            " conv_dw_6_relu (ReLU)       (None, 14, 14, 256)       0         \n",
            "                                                                 \n",
            " conv_pw_6 (Conv2D)          (None, 14, 14, 512)       131072    \n",
            "                                                                 \n",
            " conv_pw_6_bn (BatchNormali  (None, 14, 14, 512)       2048      \n",
            " zation)                                                         \n",
            "                                                                 \n",
            " conv_pw_6_relu (ReLU)       (None, 14, 14, 512)       0         \n",
            "                                                                 \n",
            " conv_dw_7 (DepthwiseConv2D  (None, 14, 14, 512)       4608      \n",
            " )                                                               \n",
            "                                                                 \n",
            " conv_dw_7_bn (BatchNormali  (None, 14, 14, 512)       2048      \n",
            " zation)                                                         \n",
            "                                                                 \n",
            " conv_dw_7_relu (ReLU)       (None, 14, 14, 512)       0         \n",
            "                                                                 \n",
            " conv_pw_7 (Conv2D)          (None, 14, 14, 512)       262144    \n",
            "                                                                 \n",
            " conv_pw_7_bn (BatchNormali  (None, 14, 14, 512)       2048      \n",
            " zation)                                                         \n",
            "                                                                 \n",
            " conv_pw_7_relu (ReLU)       (None, 14, 14, 512)       0         \n",
            "                                                                 \n",
            " conv_dw_8 (DepthwiseConv2D  (None, 14, 14, 512)       4608      \n",
            " )                                                               \n",
            "                                                                 \n",
            " conv_dw_8_bn (BatchNormali  (None, 14, 14, 512)       2048      \n",
            " zation)                                                         \n",
            "                                                                 \n",
            " conv_dw_8_relu (ReLU)       (None, 14, 14, 512)       0         \n",
            "                                                                 \n",
            " conv_pw_8 (Conv2D)          (None, 14, 14, 512)       262144    \n",
            "                                                                 \n",
            " conv_pw_8_bn (BatchNormali  (None, 14, 14, 512)       2048      \n",
            " zation)                                                         \n",
            "                                                                 \n",
            " conv_pw_8_relu (ReLU)       (None, 14, 14, 512)       0         \n",
            "                                                                 \n",
            " conv_dw_9 (DepthwiseConv2D  (None, 14, 14, 512)       4608      \n",
            " )                                                               \n",
            "                                                                 \n",
            " conv_dw_9_bn (BatchNormali  (None, 14, 14, 512)       2048      \n",
            " zation)                                                         \n",
            "                                                                 \n",
            " conv_dw_9_relu (ReLU)       (None, 14, 14, 512)       0         \n",
            "                                                                 \n",
            " conv_pw_9 (Conv2D)          (None, 14, 14, 512)       262144    \n",
            "                                                                 \n",
            " conv_pw_9_bn (BatchNormali  (None, 14, 14, 512)       2048      \n",
            " zation)                                                         \n",
            "                                                                 \n",
            " conv_pw_9_relu (ReLU)       (None, 14, 14, 512)       0         \n",
            "                                                                 \n",
            " conv_dw_10 (DepthwiseConv2  (None, 14, 14, 512)       4608      \n",
            " D)                                                              \n",
            "                                                                 \n",
            " conv_dw_10_bn (BatchNormal  (None, 14, 14, 512)       2048      \n",
            " ization)                                                        \n",
            "                                                                 \n",
            " conv_dw_10_relu (ReLU)      (None, 14, 14, 512)       0         \n",
            "                                                                 \n",
            " conv_pw_10 (Conv2D)         (None, 14, 14, 512)       262144    \n",
            "                                                                 \n",
            " conv_pw_10_bn (BatchNormal  (None, 14, 14, 512)       2048      \n",
            " ization)                                                        \n",
            "                                                                 \n",
            " conv_pw_10_relu (ReLU)      (None, 14, 14, 512)       0         \n",
            "                                                                 \n",
            " conv_dw_11 (DepthwiseConv2  (None, 14, 14, 512)       4608      \n",
            " D)                                                              \n",
            "                                                                 \n",
            " conv_dw_11_bn (BatchNormal  (None, 14, 14, 512)       2048      \n",
            " ization)                                                        \n",
            "                                                                 \n",
            " conv_dw_11_relu (ReLU)      (None, 14, 14, 512)       0         \n",
            "                                                                 \n",
            " conv_pw_11 (Conv2D)         (None, 14, 14, 512)       262144    \n",
            "                                                                 \n",
            " conv_pw_11_bn (BatchNormal  (None, 14, 14, 512)       2048      \n",
            " ization)                                                        \n",
            "                                                                 \n",
            " conv_pw_11_relu (ReLU)      (None, 14, 14, 512)       0         \n",
            "                                                                 \n",
            " conv_pad_12 (ZeroPadding2D  (None, 15, 15, 512)       0         \n",
            " )                                                               \n",
            "                                                                 \n",
            " conv_dw_12 (DepthwiseConv2  (None, 7, 7, 512)         4608      \n",
            " D)                                                              \n",
            "                                                                 \n",
            " conv_dw_12_bn (BatchNormal  (None, 7, 7, 512)         2048      \n",
            " ization)                                                        \n",
            "                                                                 \n",
            " conv_dw_12_relu (ReLU)      (None, 7, 7, 512)         0         \n",
            "                                                                 \n",
            " conv_pw_12 (Conv2D)         (None, 7, 7, 1024)        524288    \n",
            "                                                                 \n",
            " conv_pw_12_bn (BatchNormal  (None, 7, 7, 1024)        4096      \n",
            " ization)                                                        \n",
            "                                                                 \n",
            " conv_pw_12_relu (ReLU)      (None, 7, 7, 1024)        0         \n",
            "                                                                 \n",
            " conv_dw_13 (DepthwiseConv2  (None, 7, 7, 1024)        9216      \n",
            " D)                                                              \n",
            "                                                                 \n",
            " conv_dw_13_bn (BatchNormal  (None, 7, 7, 1024)        4096      \n",
            " ization)                                                        \n",
            "                                                                 \n",
            " conv_dw_13_relu (ReLU)      (None, 7, 7, 1024)        0         \n",
            "                                                                 \n",
            " conv_pw_13 (Conv2D)         (None, 7, 7, 1024)        1048576   \n",
            "                                                                 \n",
            " conv_pw_13_bn (BatchNormal  (None, 7, 7, 1024)        4096      \n",
            " ization)                                                        \n",
            "                                                                 \n",
            " conv_pw_13_relu (ReLU)      (None, 7, 7, 1024)        0         \n",
            "                                                                 \n",
            " global_average_pooling2d (  (None, 1, 1, 1024)        0         \n",
            " GlobalAveragePooling2D)                                         \n",
            "                                                                 \n",
            " dropout (Dropout)           (None, 1, 1, 1024)        0         \n",
            "                                                                 \n",
            " conv_preds (Conv2D)         (None, 1, 1, 1000)        1025000   \n",
            "                                                                 \n",
            " reshape_2 (Reshape)         (None, 1000)              0         \n",
            "                                                                 \n",
            " dense (Dense)               (None, 3)                 3003      \n",
            "                                                                 \n",
            "=================================================================\n",
            "Total params: 4256867 (16.24 MB)\n",
            "Trainable params: 3003 (11.73 KB)\n",
            "Non-trainable params: 4253864 (16.23 MB)\n",
            "_________________________________________________________________\n"
          ]
        }
      ],
      "source": [
        "x = base_model.layers[-2].output\n",
        "output = tf.keras.layers.Dense(3, activation='softmax')(x)\n",
        "model = tf.keras.Model(inputs=base_model.input, outputs=output)\n",
        "\n",
        "model.summary()"
      ]
    },
    {
      "cell_type": "markdown",
      "metadata": {
        "id": "fRGdJW1sb-Ym"
      },
      "source": [
        "## Compile Model"
      ]
    },
    {
      "cell_type": "code",
      "execution_count": null,
      "metadata": {
        "id": "b1_ZTzx4b49z"
      },
      "outputs": [],
      "source": [
        "# membuat compile model\n",
        "model.compile(\n",
        "    optimizer=Adam(learning_rate=0.001),\n",
        "    loss='categorical_crossentropy',\n",
        "    metrics= [Recall(), Precision(), \"accuracy\"]\n",
        ")"
      ]
    },
    {
      "cell_type": "markdown",
      "metadata": {
        "id": "K7WroOL_cVEZ"
      },
      "source": [
        "## Membuat Callback"
      ]
    },
    {
      "cell_type": "code",
      "execution_count": null,
      "metadata": {
        "id": "7NPrz1pVcUgH"
      },
      "outputs": [],
      "source": [
        "# membuat callback\n",
        "model_callback = EarlyStopping(\n",
        "    monitor = 'accuracy',\n",
        "    verbose = 1,\n",
        "    mode = 'max',\n",
        "    patience = 10\n",
        ")"
      ]
    },
    {
      "cell_type": "markdown",
      "metadata": {
        "id": "3U4k6-ZmcqHN"
      },
      "source": [
        "## Membuat Fit Model"
      ]
    },
    {
      "cell_type": "code",
      "execution_count": null,
      "metadata": {
        "colab": {
          "base_uri": "https://localhost:8080/"
        },
        "id": "PPa7-DkcdCP6",
        "outputId": "abbf60ec-3384-4f5b-c60c-469814947cda"
      },
      "outputs": [
        {
          "output_type": "stream",
          "name": "stdout",
          "text": [
            "Epoch 1/50\n",
            "25/25 [==============================] - 326s 13s/step - loss: 1.5445 - recall: 0.5825 - precision: 0.6005 - accuracy: 0.5962 - val_loss: 0.8572 - val_recall: 0.7050 - val_precision: 0.7194 - val_accuracy: 0.7050\n",
            "Epoch 2/50\n",
            "25/25 [==============================] - 121s 5s/step - loss: 0.7538 - recall: 0.7013 - precision: 0.7146 - accuracy: 0.7088 - val_loss: 0.6729 - val_recall: 0.7350 - val_precision: 0.7462 - val_accuracy: 0.7350\n",
            "Epoch 3/50\n",
            "25/25 [==============================] - 118s 5s/step - loss: 0.5517 - recall: 0.7575 - precision: 0.7730 - accuracy: 0.7650 - val_loss: 0.5146 - val_recall: 0.7850 - val_precision: 0.7929 - val_accuracy: 0.7850\n",
            "Epoch 4/50\n",
            "25/25 [==============================] - 117s 5s/step - loss: 0.4772 - recall: 0.7887 - precision: 0.8028 - accuracy: 0.7937 - val_loss: 0.5589 - val_recall: 0.7700 - val_precision: 0.7739 - val_accuracy: 0.7750\n",
            "Epoch 5/50\n",
            "25/25 [==============================] - 111s 4s/step - loss: 0.4361 - recall: 0.8075 - precision: 0.8208 - accuracy: 0.8163 - val_loss: 0.4537 - val_recall: 0.7900 - val_precision: 0.7940 - val_accuracy: 0.7900\n",
            "Epoch 6/50\n",
            "25/25 [==============================] - 125s 5s/step - loss: 0.4437 - recall: 0.8000 - precision: 0.8132 - accuracy: 0.8050 - val_loss: 0.5014 - val_recall: 0.7800 - val_precision: 0.7839 - val_accuracy: 0.7800\n",
            "Epoch 7/50\n",
            "25/25 [==============================] - 117s 5s/step - loss: 0.3861 - recall: 0.8400 - precision: 0.8496 - accuracy: 0.8462 - val_loss: 0.3885 - val_recall: 0.8050 - val_precision: 0.8173 - val_accuracy: 0.8150\n",
            "Epoch 8/50\n",
            "25/25 [==============================] - 120s 5s/step - loss: 0.3609 - recall: 0.8475 - precision: 0.8561 - accuracy: 0.8525 - val_loss: 0.3878 - val_recall: 0.8250 - val_precision: 0.8250 - val_accuracy: 0.8250\n",
            "Epoch 9/50\n",
            "25/25 [==============================] - 110s 4s/step - loss: 0.3625 - recall: 0.8388 - precision: 0.8430 - accuracy: 0.8400 - val_loss: 0.3640 - val_recall: 0.8300 - val_precision: 0.8342 - val_accuracy: 0.8350\n",
            "Epoch 10/50\n",
            "25/25 [==============================] - 113s 5s/step - loss: 0.3450 - recall: 0.8462 - precision: 0.8570 - accuracy: 0.8525 - val_loss: 0.3538 - val_recall: 0.8050 - val_precision: 0.8050 - val_accuracy: 0.8050\n",
            "Epoch 11/50\n",
            "25/25 [==============================] - 133s 5s/step - loss: 0.3066 - recall: 0.8600 - precision: 0.8632 - accuracy: 0.8625 - val_loss: 0.4643 - val_recall: 0.7950 - val_precision: 0.7990 - val_accuracy: 0.8000\n",
            "Epoch 12/50\n",
            "25/25 [==============================] - 120s 5s/step - loss: 0.3478 - recall: 0.8400 - precision: 0.8474 - accuracy: 0.8425 - val_loss: 0.3468 - val_recall: 0.8250 - val_precision: 0.8291 - val_accuracy: 0.8300\n",
            "Epoch 13/50\n",
            "25/25 [==============================] - 110s 4s/step - loss: 0.2825 - recall: 0.8737 - precision: 0.8792 - accuracy: 0.8763 - val_loss: 0.2789 - val_recall: 0.8350 - val_precision: 0.8350 - val_accuracy: 0.8350\n",
            "Epoch 14/50\n",
            "25/25 [==============================] - 114s 5s/step - loss: 0.3102 - recall: 0.8388 - precision: 0.8462 - accuracy: 0.8425 - val_loss: 0.3268 - val_recall: 0.8250 - val_precision: 0.8333 - val_accuracy: 0.8300\n",
            "Epoch 15/50\n",
            "25/25 [==============================] - 111s 4s/step - loss: 0.2737 - recall: 0.8900 - precision: 0.8967 - accuracy: 0.8925 - val_loss: 0.2874 - val_recall: 0.8650 - val_precision: 0.8737 - val_accuracy: 0.8700\n",
            "Epoch 16/50\n",
            "25/25 [==============================] - 118s 5s/step - loss: 0.2328 - recall: 0.8975 - precision: 0.9009 - accuracy: 0.8988 - val_loss: 0.2980 - val_recall: 0.8550 - val_precision: 0.8593 - val_accuracy: 0.8550\n",
            "Epoch 17/50\n",
            "25/25 [==============================] - 114s 5s/step - loss: 0.2491 - recall: 0.8975 - precision: 0.9020 - accuracy: 0.8975 - val_loss: 0.3152 - val_recall: 0.8500 - val_precision: 0.8500 - val_accuracy: 0.8500\n",
            "Epoch 18/50\n",
            "25/25 [==============================] - 115s 5s/step - loss: 0.2257 - recall: 0.8900 - precision: 0.8934 - accuracy: 0.8913 - val_loss: 0.3111 - val_recall: 0.8450 - val_precision: 0.8450 - val_accuracy: 0.8450\n",
            "Epoch 19/50\n",
            "25/25 [==============================] - 110s 4s/step - loss: 0.2655 - recall: 0.8850 - precision: 0.8894 - accuracy: 0.8875 - val_loss: 0.5106 - val_recall: 0.8000 - val_precision: 0.8000 - val_accuracy: 0.8000\n",
            "Epoch 20/50\n",
            "25/25 [==============================] - 110s 4s/step - loss: 0.2899 - recall: 0.8763 - precision: 0.8807 - accuracy: 0.8788 - val_loss: 0.3839 - val_recall: 0.8100 - val_precision: 0.8141 - val_accuracy: 0.8100\n",
            "Epoch 21/50\n",
            "25/25 [==============================] - 120s 5s/step - loss: 0.3171 - recall: 0.8637 - precision: 0.8659 - accuracy: 0.8637 - val_loss: 0.2936 - val_recall: 0.8600 - val_precision: 0.8600 - val_accuracy: 0.8600\n",
            "Epoch 22/50\n",
            "25/25 [==============================] - 113s 5s/step - loss: 0.2858 - recall: 0.8813 - precision: 0.8868 - accuracy: 0.8850 - val_loss: 0.3216 - val_recall: 0.8350 - val_precision: 0.8392 - val_accuracy: 0.8350\n",
            "Epoch 23/50\n",
            "25/25 [==============================] - 109s 4s/step - loss: 0.2445 - recall: 0.8925 - precision: 0.8959 - accuracy: 0.8950 - val_loss: 0.2947 - val_recall: 0.8700 - val_precision: 0.8744 - val_accuracy: 0.8750\n",
            "Epoch 24/50\n",
            "25/25 [==============================] - 114s 5s/step - loss: 0.2170 - recall: 0.9062 - precision: 0.9074 - accuracy: 0.9062 - val_loss: 0.2706 - val_recall: 0.8300 - val_precision: 0.8342 - val_accuracy: 0.8300\n",
            "Epoch 25/50\n",
            "25/25 [==============================] - 109s 4s/step - loss: 0.2382 - recall: 0.8975 - precision: 0.9020 - accuracy: 0.9000 - val_loss: 0.3653 - val_recall: 0.8250 - val_precision: 0.8250 - val_accuracy: 0.8250\n",
            "Epoch 26/50\n",
            "25/25 [==============================] - 110s 4s/step - loss: 0.2547 - recall: 0.8875 - precision: 0.8897 - accuracy: 0.8900 - val_loss: 0.3385 - val_recall: 0.8300 - val_precision: 0.8384 - val_accuracy: 0.8350\n",
            "Epoch 27/50\n",
            "25/25 [==============================] - 114s 5s/step - loss: 0.2618 - recall: 0.8863 - precision: 0.8907 - accuracy: 0.8888 - val_loss: 0.2675 - val_recall: 0.8550 - val_precision: 0.8593 - val_accuracy: 0.8600\n",
            "Epoch 28/50\n",
            "25/25 [==============================] - 111s 4s/step - loss: 0.2360 - recall: 0.8875 - precision: 0.8897 - accuracy: 0.8900 - val_loss: 0.2731 - val_recall: 0.8700 - val_precision: 0.8700 - val_accuracy: 0.8700\n",
            "Epoch 29/50\n",
            "25/25 [==============================] - 108s 4s/step - loss: 0.2073 - recall: 0.9187 - precision: 0.9187 - accuracy: 0.9187 - val_loss: 0.2385 - val_recall: 0.8900 - val_precision: 0.8945 - val_accuracy: 0.8900\n",
            "Epoch 30/50\n",
            "25/25 [==============================] - 119s 5s/step - loss: 0.2625 - recall: 0.8825 - precision: 0.8869 - accuracy: 0.8838 - val_loss: 0.2800 - val_recall: 0.8800 - val_precision: 0.8844 - val_accuracy: 0.8850\n",
            "Epoch 31/50\n",
            "25/25 [==============================] - 109s 4s/step - loss: 0.2507 - recall: 0.8775 - precision: 0.8797 - accuracy: 0.8788 - val_loss: 0.2426 - val_recall: 0.8750 - val_precision: 0.8750 - val_accuracy: 0.8750\n",
            "Epoch 32/50\n",
            "25/25 [==============================] - 113s 5s/step - loss: 0.2134 - recall: 0.9187 - precision: 0.9199 - accuracy: 0.9200 - val_loss: 0.2388 - val_recall: 0.8700 - val_precision: 0.8744 - val_accuracy: 0.8750\n",
            "Epoch 33/50\n",
            "25/25 [==============================] - 109s 4s/step - loss: 0.2329 - recall: 0.8900 - precision: 0.8945 - accuracy: 0.8938 - val_loss: 0.2379 - val_recall: 0.8750 - val_precision: 0.8750 - val_accuracy: 0.8750\n",
            "Epoch 34/50\n",
            "25/25 [==============================] - 116s 5s/step - loss: 0.2093 - recall: 0.9100 - precision: 0.9100 - accuracy: 0.9100 - val_loss: 0.2662 - val_recall: 0.8650 - val_precision: 0.8693 - val_accuracy: 0.8700\n",
            "Epoch 35/50\n",
            "25/25 [==============================] - 111s 4s/step - loss: 0.1937 - recall: 0.9150 - precision: 0.9161 - accuracy: 0.9150 - val_loss: 0.2919 - val_recall: 0.8500 - val_precision: 0.8543 - val_accuracy: 0.8500\n",
            "Epoch 36/50\n",
            "25/25 [==============================] - 109s 4s/step - loss: 0.2166 - recall: 0.9075 - precision: 0.9075 - accuracy: 0.9075 - val_loss: 0.2651 - val_recall: 0.9000 - val_precision: 0.9000 - val_accuracy: 0.9000\n",
            "Epoch 37/50\n",
            "25/25 [==============================] - 120s 5s/step - loss: 0.2117 - recall: 0.8950 - precision: 0.9029 - accuracy: 0.9000 - val_loss: 0.3202 - val_recall: 0.8600 - val_precision: 0.8600 - val_accuracy: 0.8600\n",
            "Epoch 38/50\n",
            "25/25 [==============================] - 117s 5s/step - loss: 0.2336 - recall: 0.9112 - precision: 0.9124 - accuracy: 0.9125 - val_loss: 0.3215 - val_recall: 0.8650 - val_precision: 0.8650 - val_accuracy: 0.8650\n",
            "Epoch 39/50\n",
            "25/25 [==============================] - 111s 4s/step - loss: 0.3384 - recall: 0.8550 - precision: 0.8561 - accuracy: 0.8550 - val_loss: 0.3877 - val_recall: 0.8400 - val_precision: 0.8400 - val_accuracy: 0.8400\n",
            "Epoch 40/50\n",
            "25/25 [==============================] - 111s 4s/step - loss: 0.3513 - recall: 0.8600 - precision: 0.8600 - accuracy: 0.8600 - val_loss: 0.2754 - val_recall: 0.8850 - val_precision: 0.8850 - val_accuracy: 0.8850\n",
            "Epoch 41/50\n",
            "25/25 [==============================] - 112s 4s/step - loss: 0.1958 - recall: 0.9225 - precision: 0.9237 - accuracy: 0.9237 - val_loss: 0.3031 - val_recall: 0.8550 - val_precision: 0.8550 - val_accuracy: 0.8550\n",
            "Epoch 42/50\n",
            "25/25 [==============================] - 116s 5s/step - loss: 0.1868 - recall: 0.9250 - precision: 0.9262 - accuracy: 0.9262 - val_loss: 0.2343 - val_recall: 0.9000 - val_precision: 0.9045 - val_accuracy: 0.9000\n",
            "Epoch 43/50\n",
            "25/25 [==============================] - 110s 4s/step - loss: 0.2191 - recall: 0.9000 - precision: 0.9011 - accuracy: 0.9000 - val_loss: 0.2851 - val_recall: 0.8850 - val_precision: 0.8850 - val_accuracy: 0.8850\n",
            "Epoch 44/50\n",
            "25/25 [==============================] - 111s 4s/step - loss: 0.2664 - recall: 0.8963 - precision: 0.8963 - accuracy: 0.8963 - val_loss: 0.2775 - val_recall: 0.8650 - val_precision: 0.8693 - val_accuracy: 0.8700\n",
            "Epoch 45/50\n",
            "25/25 [==============================] - 113s 4s/step - loss: 0.2024 - recall: 0.9137 - precision: 0.9149 - accuracy: 0.9150 - val_loss: 0.3927 - val_recall: 0.8200 - val_precision: 0.8241 - val_accuracy: 0.8250\n",
            "Epoch 46/50\n",
            "25/25 [==============================] - 118s 5s/step - loss: 0.1988 - recall: 0.9200 - precision: 0.9212 - accuracy: 0.9200 - val_loss: 0.4229 - val_recall: 0.8100 - val_precision: 0.8141 - val_accuracy: 0.8150\n",
            "Epoch 47/50\n",
            "25/25 [==============================] - 111s 4s/step - loss: 0.2068 - recall: 0.9038 - precision: 0.9060 - accuracy: 0.9050 - val_loss: 0.3327 - val_recall: 0.8500 - val_precision: 0.8500 - val_accuracy: 0.8500\n",
            "Epoch 48/50\n",
            "25/25 [==============================] - 110s 4s/step - loss: 0.2064 - recall: 0.9050 - precision: 0.9073 - accuracy: 0.9050 - val_loss: 0.2771 - val_recall: 0.8650 - val_precision: 0.8650 - val_accuracy: 0.8650\n",
            "Epoch 49/50\n",
            "25/25 [==============================] - 114s 5s/step - loss: 0.2413 - recall: 0.8925 - precision: 0.8959 - accuracy: 0.8938 - val_loss: 0.2732 - val_recall: 0.8500 - val_precision: 0.8543 - val_accuracy: 0.8550\n",
            "Epoch 50/50\n",
            "25/25 [==============================] - 114s 5s/step - loss: 0.2099 - recall: 0.9150 - precision: 0.9161 - accuracy: 0.9162 - val_loss: 0.2654 - val_recall: 0.8700 - val_precision: 0.8700 - val_accuracy: 0.8700\n"
          ]
        }
      ],
      "source": [
        "# membuat fit model\n",
        "history = model.fit(\n",
        "    train_data,\n",
        "    validation_data = valid_data,\n",
        "    epochs = 50,\n",
        "    steps_per_epoch = 25,\n",
        "    callbacks = [model_callback],\n",
        "    verbose = 1\n",
        ")"
      ]
    },
    {
      "cell_type": "markdown",
      "metadata": {
        "id": "0muZtuoFdHO8"
      },
      "source": [
        "## Evaluasi"
      ]
    },
    {
      "cell_type": "code",
      "execution_count": null,
      "metadata": {
        "id": "HaF6-TXodfHx"
      },
      "outputs": [],
      "source": [
        "# evaluasi hasil model kalian disini\n",
        "model.evaluate(valid_data)"
      ]
    },
    {
      "cell_type": "code",
      "execution_count": null,
      "metadata": {
        "colab": {
          "base_uri": "https://localhost:8080/",
          "height": 333
        },
        "id": "HCdroWGntlbg",
        "outputId": "fca3f44b-9b81-457d-eaef-1bd01258607e"
      },
      "outputs": [
        {
          "output_type": "display_data",
          "data": {
            "text/plain": [
              "<Figure size 800x300 with 1 Axes>"
            ],
            "image/png": "[encoded data removed]"
          },
          "metadata": {}
        }
      ],
      "source": [
        "import matplotlib.pyplot as plt\n",
        "\n",
        "plt.figure(figsize=(8, 3))\n",
        "plt.plot(history.epoch, history.history['accuracy'])\n",
        "plt.plot(history.epoch, history.history['val_accuracy'])\n",
        "plt.legend(['train accuracy', 'val accuracy'])\n",
        "plt.title('accuracy Diagram')\n",
        "plt.xlabel('Epoch(s)')\n",
        "plt.ylabel('accuracy')\n",
        "plt.grid(True)\n",
        "plt.show()"
      ]
    },
    {
      "cell_type": "code",
      "source": [
        "from sklearn.metrics import classification_report, confusion_matrix\n",
        "labels"
      ],
      "metadata": {
        "id": "3frWXvN4MAYU"
      },
      "execution_count": null,
      "outputs": []
    },
    {
      "cell_type": "code",
      "source": [
        "model = tf.keras.models.load_model('/content/drive/MyDrive/Skripsi/model/myModel2(original_es_mobilenet).h5')"
      ],
      "metadata": {
        "id": "e_NDsYXLz_u-"
      },
      "execution_count": null,
      "outputs": []
    },
    {
      "cell_type": "code",
      "source": [
        "y_test = valid_data.classes\n",
        "y_pred = model.predict(valid_data)\n",
        "y_pred_probs = y_pred.copy()"
      ],
      "metadata": {
        "id": "vEEB8b7R1wsO"
      },
      "execution_count": null,
      "outputs": []
    },
    {
      "cell_type": "code",
      "source": [
        "y_test"
      ],
      "metadata": {
        "id": "ujA6x5sW0EcW"
      },
      "execution_count": null,
      "outputs": []
    },
    {
      "cell_type": "code",
      "source": [
        "y_pred_int = np.argmax(y_pred_probs, axis=1)"
      ],
      "metadata": {
        "id": "U_u9FMTQ0F_w"
      },
      "execution_count": null,
      "outputs": []
    },
    {
      "cell_type": "code",
      "source": [
        "print(classification_report(y_test,y_pred_int,target_names = labels))"
      ],
      "metadata": {
        "id": "GseDrRFg0Ha9"
      },
      "execution_count": null,
      "outputs": []
    },
    {
      "cell_type": "code",
      "source": [
        "plt.figure(figsize=(10,8))\n",
        "sns.heatmap(confusion_matrix(y_test,y_pred_int),annot=True,fmt='.3g',xticklabels=labels,\n",
        "            yticklabels=labels,cmap='Blues')\n",
        "plt.show()"
      ],
      "metadata": {
        "id": "m9epYdYj0KQB"
      },
      "execution_count": null,
      "outputs": []
    },
    {
      "cell_type": "markdown",
      "metadata": {
        "id": "gzBsSrO-dmY3"
      },
      "source": [
        "# Simpan Model"
      ]
    },
    {
      "cell_type": "code",
      "execution_count": null,
      "metadata": {
        "id": "Q-kKUAGgdrZ3",
        "colab": {
          "base_uri": "https://localhost:8080/"
        },
        "outputId": "726fabc4-1ad6-4743-a0d0-97699cb4f715"
      },
      "outputs": [
        {
          "output_type": "stream",
          "name": "stderr",
          "text": [
            "/usr/local/lib/python3.10/dist-packages/keras/src/engine/training.py:3103: UserWarning: You are saving your model as an HDF5 file via `model.save()`. This file format is considered legacy. We recommend using instead the native Keras format, e.g. `model.save('my_model.keras')`.\n",
            "  saving_api.save_model(\n"
          ]
        }
      ],
      "source": [
        "# save model\n",
        "model.save('/content/drive/MyDrive/Skripsi/model/myModel2(original_es_mobilenet).h5')"
      ]
    },
    {
      "cell_type": "code",
      "execution_count": null,
      "metadata": {
        "id": "ApdyFNlRt0Ps"
      },
      "outputs": [],
      "source": [
        "from tensorflow.keras.models import load_model\n",
        "from tensorflow.keras.preprocessing import image\n",
        "\n",
        "path_model_save = '/content/drive/MyDrive/Skripsi/model/myModel2(original_es_mobilenet).h5'\n",
        "loaded_model = load_model(path_model_save)"
      ]
    },
    {
      "cell_type": "markdown",
      "metadata": {
        "id": "Lx_iumXEd25y"
      },
      "source": [
        "## Load Model dan Jalankan Model"
      ]
    },
    {
      "cell_type": "code",
      "execution_count": null,
      "metadata": {
        "id": "zUkDZTxhd2bi"
      },
      "outputs": [],
      "source": [
        "%matplotlib inline\n",
        "import matplotlib.pyplot as plt\n",
        "import numpy as np\n",
        "from google.colab import files\n",
        "from tensorflow.keras.preprocessing import image\n",
        "\n",
        "uploaded = files.upload()\n",
        "\n",
        "for fn in uploaded.keys():\n",
        "\n",
        "  # predicting images\n",
        "  img_path = '/content/' + fn\n",
        "  img = image.load_img(img_path, target_size=(224, 224));\n",
        "  img_array = image.img_to_array(img)\n",
        "  img_array = np.expand_dims(img_array, axis=0)\n",
        "\n",
        "  classes = loaded_model.predict(img_array/255);\n",
        "\n",
        "  for i, class_ in enumerate(classes[0]):\n",
        "      if class_ == classes[0].max():\n",
        "          if i == 0:\n",
        "              print(\"Pisang Busuk\")\n",
        "          elif i == 1:\n",
        "              print(\"Pisang Masak\")\n",
        "          else:\n",
        "              print(\"Pisang Mentah\")"
      ]
    }
  ],
  "metadata": {
    "colab": {
      "provenance": [],
      "include_colab_link": true
    },
    "kernelspec": {
      "display_name": "Python 3",
      "name": "python3"
    },
    "language_info": {
      "name": "python"
    }
  },
  "nbformat": 4,
  "nbformat_minor": 0
}