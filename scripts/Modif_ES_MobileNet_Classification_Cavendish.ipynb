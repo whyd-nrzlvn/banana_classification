{
  "cells": [
    {
      "cell_type": "markdown",
      "metadata": {
        "id": "view-in-github",
        "colab_type": "text"
      },
      "source": [
        "<a href=\"https://colab.research.google.com/github/whyd-nrzlvn/banana_classification/blob/main/models/Modif_ES_MobileNet_Classification_Cavendish.ipynb\" target=\"_parent\"><img src=\"https://colab.research.google.com/assets/colab-badge.svg\" alt=\"Open In Colab\"/></a>"
      ]
    },
    {
      "cell_type": "markdown",
      "metadata": {
        "id": "a3HQCy93hlXn"
      },
      "source": [
        "# Bagian Baru"
      ]
    },
    {
      "cell_type": "markdown",
      "metadata": {
        "id": "F56HquBzWeCv"
      },
      "source": [
        "## Import Dataset"
      ]
    },
    {
      "cell_type": "markdown",
      "metadata": {
        "id": "9-Kt8vrmodFd"
      },
      "source": []
    },
    {
      "cell_type": "code",
      "execution_count": null,
      "metadata": {
        "colab": {
          "base_uri": "https://localhost:8080/"
        },
        "id": "G4IPjA-CU6Je",
        "outputId": "bf7e5ecd-e7c6-4b13-bdbc-b58cb0fd461a"
      },
      "outputs": [
        {
          "name": "stdout",
          "output_type": "stream",
          "text": [
            "3.10.12 (main, Nov 20 2023, 15:14:05) [GCC 11.4.0]\n"
          ]
        }
      ],
      "source": [
        "import sys\n",
        "print(sys.version)"
      ]
    },
    {
      "cell_type": "code",
      "execution_count": null,
      "metadata": {
        "id": "B_6U0tZUpCrV",
        "colab": {
          "base_uri": "https://localhost:8080/"
        },
        "outputId": "3dcdcbbc-c6ea-44f5-b721-568374cf5fd0"
      },
      "outputs": [
        {
          "output_type": "stream",
          "name": "stdout",
          "text": [
            "Mounted at /content/drive\n"
          ]
        }
      ],
      "source": [
        "from google.colab import drive\n",
        "drive.mount('/content/drive')"
      ]
    },
    {
      "cell_type": "markdown",
      "metadata": {
        "id": "aC7IrUU-bKSJ"
      },
      "source": [
        "## Import Packages\n",
        "\n"
      ]
    },
    {
      "cell_type": "code",
      "execution_count": null,
      "metadata": {
        "id": "WAo5oPBlbWSc"
      },
      "outputs": [],
      "source": [
        "# import packages\n",
        "import numpy as np\n",
        "import tensorflow as tf\n",
        "from tensorflow.keras.preprocessing.image import ImageDataGenerator\n",
        "from tensorflow.keras.optimizers import Adam, RMSprop, SGD\n",
        "from tensorflow.keras.layers import Dense, MaxPooling2D, Dropout, Conv2D, Flatten\n",
        "from tensorflow.keras.models import Sequential\n",
        "from tensorflow.keras.metrics import Recall, Precision\n",
        "from tensorflow.keras.callbacks import EarlyStopping\n",
        "import matplotlib.pyplot as plt\n",
        "import seaborn as sns"
      ]
    },
    {
      "cell_type": "markdown",
      "metadata": {
        "id": "NZQKv04CWgt_"
      },
      "source": [
        "## Generate Dataset\n"
      ]
    },
    {
      "cell_type": "code",
      "execution_count": null,
      "metadata": {
        "id": "pDtrturHWVun"
      },
      "outputs": [],
      "source": [
        "# directory dataset training dan validation\n",
        "dir = '/content/drive/MyDrive/Skripsi/DataPisang1000'\n",
        "\n",
        "# image size\n",
        "img_width, img_height, channel = (224, 224, 3)"
      ]
    },
    {
      "cell_type": "markdown",
      "metadata": {
        "id": "HW80mXGAqGBS"
      },
      "source": [
        "# **Melakukan Data Generator**"
      ]
    },
    {
      "cell_type": "markdown",
      "metadata": {
        "id": "jwEBzY4qqPIR"
      },
      "source": [
        "**Data Generator pada train dataset**"
      ]
    },
    {
      "cell_type": "code",
      "execution_count": null,
      "metadata": {
        "colab": {
          "base_uri": "https://localhost:8080/"
        },
        "id": "CG6ve-s0qFj9",
        "outputId": "d00539c8-311a-4145-f6fd-e6a527570a26"
      },
      "outputs": [
        {
          "output_type": "stream",
          "name": "stdout",
          "text": [
            "Found 800 images belonging to 3 classes.\n"
          ]
        }
      ],
      "source": [
        "# melakukan Data Generator pada train dataset\n",
        "datagen = ImageDataGenerator(\n",
        "    rescale = 1./255,\n",
        "    horizontal_flip=True,\n",
        "    vertical_flip=True,\n",
        "    zoom_range=0.2,\n",
        "    validation_split = 0.20,\n",
        ")\n",
        "\n",
        "train_data = datagen.flow_from_directory(\n",
        "    dir,\n",
        "    target_size = (img_width, img_height),\n",
        "    batch_size = 32,\n",
        "    shuffle=True,\n",
        "    subset='training',\n",
        "    class_mode = 'categorical'\n",
        ")\n",
        "\n",
        "valid_data = datagen.flow_from_directory(\n",
        "    dir,\n",
        "    target_size = (img_width, img_height),\n",
        "    batch_size = 32,\n",
        "    shuffle=False,\n",
        "    subset='validation',\n",
        "    class_mode = 'categorical'\n",
        ")"
      ]
    },
    {
      "cell_type": "markdown",
      "metadata": {
        "id": "WZ0RwnIsAqbI"
      },
      "source": [
        "**Menyimpan hasil ImageDataGenerator**"
      ]
    },
    {
      "cell_type": "code",
      "execution_count": null,
      "metadata": {
        "id": "JsdkFy0C9JPk"
      },
      "outputs": [],
      "source": [
        "from PIL import Image #nb\n",
        "import os\n",
        "import shutil\n",
        "\n",
        "#Menyimpan gambar ke Google Drive\n",
        "def save_to_drive(image_path, folder_path):\n",
        "    # Copy gambar ke Google Drive\n",
        "    shutil.copy(image_path, folder_path)\n",
        "\n",
        "#Menyimpan 60 gambar hasil dari valid_data ke Google Drive, bisa di atur sesuai keinginan\n",
        "i = 0\n",
        "for batch, labels in train_data:\n",
        "    images_per_class = {}  # Dictionary untuk melacak jumlah gambar yang disimpan dalam setiap kelas\n",
        "\n",
        "    for idx, (img, label) in enumerate(zip(batch, labels)):\n",
        "        if i >= 60:  # Menyimpan hanya 60 gambar\n",
        "            break  # Berhenti jika sudah menyimpan sebanyak yang diinginkan\n",
        "\n",
        "        # Mendapatkan label kelas\n",
        "        class_index = label.argmax()\n",
        "\n",
        "        # Membuat nama folder berdasarkan label kelas\n",
        "        folder_name = f'{class_index}'\n",
        "\n",
        "        # Path folder sesuai dengan kelas\n",
        "        folder_path = os.path.join('/content/drive/MyDrive/Skripsi/dataImage', folder_name)\n",
        "\n",
        "        # Jika folder belum ada, buat folder baru\n",
        "        if not os.path.exists(folder_path):\n",
        "            os.makedirs(folder_path)\n",
        "\n",
        "        # Nama file untuk disimpan secara sementara\n",
        "        image_path = f'/content/augmented_image_{i}.jpg'\n",
        "\n",
        "        # Simpan gambar dalam format JPEG\n",
        "        Image.fromarray((img * 255).astype(np.uint8)).save(image_path)\n",
        "\n",
        "        # Menyimpan gambar ke folder yang sesuai dengan kelasnya\n",
        "        save_to_drive(image_path, folder_path)\n",
        "\n",
        "        # Hapus gambar sementara setelah diunggah\n",
        "        os.remove(image_path)\n",
        "\n",
        "        # Menambahkan jumlah gambar yang disimpan dalam kelas ini\n",
        "        images_per_class[class_index] = images_per_class.get(class_index, 0) + 1\n",
        "\n",
        "        i += 1\n",
        "\n",
        "    # Memeriksa apakah setiap folder kelas berisi tepat 20 gambar\n",
        "    if all(images == 20 for images in images_per_class.values()):\n",
        "        break  # Berhenti jika setiap folder kelas sudah berisi 20 gambar\n"
      ]
    },
    {
      "cell_type": "code",
      "source": [
        "classes = train_data.class_indices\n",
        "classes"
      ],
      "metadata": {
        "id": "KmIwQv-_0oHY"
      },
      "execution_count": null,
      "outputs": []
    },
    {
      "cell_type": "code",
      "source": [
        "labels = [k for k in train_data.class_indices]\n",
        "sample_generate = train_data.__next__()\n",
        "images = sample_generate[0]\n",
        "titles = sample_generate[1]\n",
        "plt.figure(figsize = (20 , 20))\n",
        "\n",
        "for i in range(15):\n",
        "    plt.subplot(5 , 5, i+1)\n",
        "    plt.subplots_adjust(hspace = 0.3 , wspace = 0.3)\n",
        "    plt.imshow(images[i])\n",
        "    plt.title(f'Class: {labels[np.argmax(titles[i],axis=0)]}')\n",
        "    plt.axis(\"off\")"
      ],
      "metadata": {
        "id": "8WlnQi8Y0pTW"
      },
      "execution_count": null,
      "outputs": []
    },
    {
      "cell_type": "markdown",
      "metadata": {
        "id": "jSwElXpYWj6X"
      },
      "source": [
        "**Membuat Model**"
      ]
    },
    {
      "cell_type": "code",
      "execution_count": null,
      "metadata": {
        "colab": {
          "base_uri": "https://localhost:8080/"
        },
        "id": "GisrNVv1bnq6",
        "outputId": "28d43fda-be05-4ff6-ccf0-b5b038dd53b6"
      },
      "outputs": [
        {
          "output_type": "stream",
          "name": "stdout",
          "text": [
            "Downloading data from https://storage.googleapis.com/tensorflow/keras-applications/mobilenet/mobilenet_1_0_224_tf_no_top.h5\n",
            "17225924/17225924 [==============================] - 2s 0us/step\n",
            "Model: \"mobilenet_1.00_224\"\n",
            "_________________________________________________________________\n",
            " Layer (type)                Output Shape              Param #   \n",
            "=================================================================\n",
            " input_1 (InputLayer)        [(None, 224, 224, 3)]     0         \n",
            "                                                                 \n",
            " conv1 (Conv2D)              (None, 112, 112, 32)      864       \n",
            "                                                                 \n",
            " conv1_bn (BatchNormalizati  (None, 112, 112, 32)      128       \n",
            " on)                                                             \n",
            "                                                                 \n",
            " conv1_relu (ReLU)           (None, 112, 112, 32)      0         \n",
            "                                                                 \n",
            " conv_dw_1 (DepthwiseConv2D  (None, 112, 112, 32)      288       \n",
            " )                                                               \n",
            "                                                                 \n",
            " conv_dw_1_bn (BatchNormali  (None, 112, 112, 32)      128       \n",
            " zation)                                                         \n",
            "                                                                 \n",
            " conv_dw_1_relu (ReLU)       (None, 112, 112, 32)      0         \n",
            "                                                                 \n",
            " conv_pw_1 (Conv2D)          (None, 112, 112, 64)      2048      \n",
            "                                                                 \n",
            " conv_pw_1_bn (BatchNormali  (None, 112, 112, 64)      256       \n",
            " zation)                                                         \n",
            "                                                                 \n",
            " conv_pw_1_relu (ReLU)       (None, 112, 112, 64)      0         \n",
            "                                                                 \n",
            " conv_pad_2 (ZeroPadding2D)  (None, 113, 113, 64)      0         \n",
            "                                                                 \n",
            " conv_dw_2 (DepthwiseConv2D  (None, 56, 56, 64)        576       \n",
            " )                                                               \n",
            "                                                                 \n",
            " conv_dw_2_bn (BatchNormali  (None, 56, 56, 64)        256       \n",
            " zation)                                                         \n",
            "                                                                 \n",
            " conv_dw_2_relu (ReLU)       (None, 56, 56, 64)        0         \n",
            "                                                                 \n",
            " conv_pw_2 (Conv2D)          (None, 56, 56, 128)       8192      \n",
            "                                                                 \n",
            " conv_pw_2_bn (BatchNormali  (None, 56, 56, 128)       512       \n",
            " zation)                                                         \n",
            "                                                                 \n",
            " conv_pw_2_relu (ReLU)       (None, 56, 56, 128)       0         \n",
            "                                                                 \n",
            " conv_dw_3 (DepthwiseConv2D  (None, 56, 56, 128)       1152      \n",
            " )                                                               \n",
            "                                                                 \n",
            " conv_dw_3_bn (BatchNormali  (None, 56, 56, 128)       512       \n",
            " zation)                                                         \n",
            "                                                                 \n",
            " conv_dw_3_relu (ReLU)       (None, 56, 56, 128)       0         \n",
            "                                                                 \n",
            " conv_pw_3 (Conv2D)          (None, 56, 56, 128)       16384     \n",
            "                                                                 \n",
            " conv_pw_3_bn (BatchNormali  (None, 56, 56, 128)       512       \n",
            " zation)                                                         \n",
            "                                                                 \n",
            " conv_pw_3_relu (ReLU)       (None, 56, 56, 128)       0         \n",
            "                                                                 \n",
            " conv_pad_4 (ZeroPadding2D)  (None, 57, 57, 128)       0         \n",
            "                                                                 \n",
            " conv_dw_4 (DepthwiseConv2D  (None, 28, 28, 128)       1152      \n",
            " )                                                               \n",
            "                                                                 \n",
            " conv_dw_4_bn (BatchNormali  (None, 28, 28, 128)       512       \n",
            " zation)                                                         \n",
            "                                                                 \n",
            " conv_dw_4_relu (ReLU)       (None, 28, 28, 128)       0         \n",
            "                                                                 \n",
            " conv_pw_4 (Conv2D)          (None, 28, 28, 256)       32768     \n",
            "                                                                 \n",
            " conv_pw_4_bn (BatchNormali  (None, 28, 28, 256)       1024      \n",
            " zation)                                                         \n",
            "                                                                 \n",
            " conv_pw_4_relu (ReLU)       (None, 28, 28, 256)       0         \n",
            "                                                                 \n",
            " conv_dw_5 (DepthwiseConv2D  (None, 28, 28, 256)       2304      \n",
            " )                                                               \n",
            "                                                                 \n",
            " conv_dw_5_bn (BatchNormali  (None, 28, 28, 256)       1024      \n",
            " zation)                                                         \n",
            "                                                                 \n",
            " conv_dw_5_relu (ReLU)       (None, 28, 28, 256)       0         \n",
            "                                                                 \n",
            " conv_pw_5 (Conv2D)          (None, 28, 28, 256)       65536     \n",
            "                                                                 \n",
            " conv_pw_5_bn (BatchNormali  (None, 28, 28, 256)       1024      \n",
            " zation)                                                         \n",
            "                                                                 \n",
            " conv_pw_5_relu (ReLU)       (None, 28, 28, 256)       0         \n",
            "                                                                 \n",
            " conv_pad_6 (ZeroPadding2D)  (None, 29, 29, 256)       0         \n",
            "                                                                 \n",
            " conv_dw_6 (DepthwiseConv2D  (None, 14, 14, 256)       2304      \n",
            " )                                                               \n",
            "                                                                 \n",
            " conv_dw_6_bn (BatchNormali  (None, 14, 14, 256)       1024      \n",
            " zation)                                                         \n",
            "                                                                 \n",
            " conv_dw_6_relu (ReLU)       (None, 14, 14, 256)       0         \n",
            "                                                                 \n",
            " conv_pw_6 (Conv2D)          (None, 14, 14, 512)       131072    \n",
            "                                                                 \n",
            " conv_pw_6_bn (BatchNormali  (None, 14, 14, 512)       2048      \n",
            " zation)                                                         \n",
            "                                                                 \n",
            " conv_pw_6_relu (ReLU)       (None, 14, 14, 512)       0         \n",
            "                                                                 \n",
            " conv_dw_7 (DepthwiseConv2D  (None, 14, 14, 512)       4608      \n",
            " )                                                               \n",
            "                                                                 \n",
            " conv_dw_7_bn (BatchNormali  (None, 14, 14, 512)       2048      \n",
            " zation)                                                         \n",
            "                                                                 \n",
            " conv_dw_7_relu (ReLU)       (None, 14, 14, 512)       0         \n",
            "                                                                 \n",
            " conv_pw_7 (Conv2D)          (None, 14, 14, 512)       262144    \n",
            "                                                                 \n",
            " conv_pw_7_bn (BatchNormali  (None, 14, 14, 512)       2048      \n",
            " zation)                                                         \n",
            "                                                                 \n",
            " conv_pw_7_relu (ReLU)       (None, 14, 14, 512)       0         \n",
            "                                                                 \n",
            " conv_dw_8 (DepthwiseConv2D  (None, 14, 14, 512)       4608      \n",
            " )                                                               \n",
            "                                                                 \n",
            " conv_dw_8_bn (BatchNormali  (None, 14, 14, 512)       2048      \n",
            " zation)                                                         \n",
            "                                                                 \n",
            " conv_dw_8_relu (ReLU)       (None, 14, 14, 512)       0         \n",
            "                                                                 \n",
            " conv_pw_8 (Conv2D)          (None, 14, 14, 512)       262144    \n",
            "                                                                 \n",
            " conv_pw_8_bn (BatchNormali  (None, 14, 14, 512)       2048      \n",
            " zation)                                                         \n",
            "                                                                 \n",
            " conv_pw_8_relu (ReLU)       (None, 14, 14, 512)       0         \n",
            "                                                                 \n",
            " conv_dw_9 (DepthwiseConv2D  (None, 14, 14, 512)       4608      \n",
            " )                                                               \n",
            "                                                                 \n",
            " conv_dw_9_bn (BatchNormali  (None, 14, 14, 512)       2048      \n",
            " zation)                                                         \n",
            "                                                                 \n",
            " conv_dw_9_relu (ReLU)       (None, 14, 14, 512)       0         \n",
            "                                                                 \n",
            " conv_pw_9 (Conv2D)          (None, 14, 14, 512)       262144    \n",
            "                                                                 \n",
            " conv_pw_9_bn (BatchNormali  (None, 14, 14, 512)       2048      \n",
            " zation)                                                         \n",
            "                                                                 \n",
            " conv_pw_9_relu (ReLU)       (None, 14, 14, 512)       0         \n",
            "                                                                 \n",
            " conv_dw_10 (DepthwiseConv2  (None, 14, 14, 512)       4608      \n",
            " D)                                                              \n",
            "                                                                 \n",
            " conv_dw_10_bn (BatchNormal  (None, 14, 14, 512)       2048      \n",
            " ization)                                                        \n",
            "                                                                 \n",
            " conv_dw_10_relu (ReLU)      (None, 14, 14, 512)       0         \n",
            "                                                                 \n",
            " conv_pw_10 (Conv2D)         (None, 14, 14, 512)       262144    \n",
            "                                                                 \n",
            " conv_pw_10_bn (BatchNormal  (None, 14, 14, 512)       2048      \n",
            " ization)                                                        \n",
            "                                                                 \n",
            " conv_pw_10_relu (ReLU)      (None, 14, 14, 512)       0         \n",
            "                                                                 \n",
            " conv_dw_11 (DepthwiseConv2  (None, 14, 14, 512)       4608      \n",
            " D)                                                              \n",
            "                                                                 \n",
            " conv_dw_11_bn (BatchNormal  (None, 14, 14, 512)       2048      \n",
            " ization)                                                        \n",
            "                                                                 \n",
            " conv_dw_11_relu (ReLU)      (None, 14, 14, 512)       0         \n",
            "                                                                 \n",
            " conv_pw_11 (Conv2D)         (None, 14, 14, 512)       262144    \n",
            "                                                                 \n",
            " conv_pw_11_bn (BatchNormal  (None, 14, 14, 512)       2048      \n",
            " ization)                                                        \n",
            "                                                                 \n",
            " conv_pw_11_relu (ReLU)      (None, 14, 14, 512)       0         \n",
            "                                                                 \n",
            " conv_pad_12 (ZeroPadding2D  (None, 15, 15, 512)       0         \n",
            " )                                                               \n",
            "                                                                 \n",
            " conv_dw_12 (DepthwiseConv2  (None, 7, 7, 512)         4608      \n",
            " D)                                                              \n",
            "                                                                 \n",
            " conv_dw_12_bn (BatchNormal  (None, 7, 7, 512)         2048      \n",
            " ization)                                                        \n",
            "                                                                 \n",
            " conv_dw_12_relu (ReLU)      (None, 7, 7, 512)         0         \n",
            "                                                                 \n",
            " conv_pw_12 (Conv2D)         (None, 7, 7, 1024)        524288    \n",
            "                                                                 \n",
            " conv_pw_12_bn (BatchNormal  (None, 7, 7, 1024)        4096      \n",
            " ization)                                                        \n",
            "                                                                 \n",
            " conv_pw_12_relu (ReLU)      (None, 7, 7, 1024)        0         \n",
            "                                                                 \n",
            " conv_dw_13 (DepthwiseConv2  (None, 7, 7, 1024)        9216      \n",
            " D)                                                              \n",
            "                                                                 \n",
            " conv_dw_13_bn (BatchNormal  (None, 7, 7, 1024)        4096      \n",
            " ization)                                                        \n",
            "                                                                 \n",
            " conv_dw_13_relu (ReLU)      (None, 7, 7, 1024)        0         \n",
            "                                                                 \n",
            " conv_pw_13 (Conv2D)         (None, 7, 7, 1024)        1048576   \n",
            "                                                                 \n",
            " conv_pw_13_bn (BatchNormal  (None, 7, 7, 1024)        4096      \n",
            " ization)                                                        \n",
            "                                                                 \n",
            " conv_pw_13_relu (ReLU)      (None, 7, 7, 1024)        0         \n",
            "                                                                 \n",
            "=================================================================\n",
            "Total params: 3228864 (12.32 MB)\n",
            "Trainable params: 0 (0.00 Byte)\n",
            "Non-trainable params: 3228864 (12.32 MB)\n",
            "_________________________________________________________________\n"
          ]
        }
      ],
      "source": [
        "from tensorflow.keras.applications import DenseNet201, MobileNet, InceptionV3\n",
        "\n",
        "base_model = MobileNet(\n",
        "    input_shape=(img_width, img_height, 3),\n",
        "    include_top=False,\n",
        "    weights='imagenet'\n",
        ")\n",
        "\n",
        "for layer in base_model.layers:\n",
        "    layer.trainable = False\n",
        "\n",
        "base_model.summary()"
      ]
    },
    {
      "cell_type": "markdown",
      "metadata": {
        "id": "nREYOyWFq5Xh"
      },
      "source": [
        "**Modifikasi Pre trained model**"
      ]
    },
    {
      "cell_type": "code",
      "execution_count": null,
      "metadata": {
        "colab": {
          "base_uri": "https://localhost:8080/"
        },
        "id": "BaCRnJdBrDtd",
        "outputId": "162cd20c-a34c-4592-9ea5-7e5097650ff2"
      },
      "outputs": [
        {
          "output_type": "stream",
          "name": "stdout",
          "text": [
            "Model: \"model\"\n",
            "_________________________________________________________________\n",
            " Layer (type)                Output Shape              Param #   \n",
            "=================================================================\n",
            " input_1 (InputLayer)        [(None, 224, 224, 3)]     0         \n",
            "                                                                 \n",
            " conv1 (Conv2D)              (None, 112, 112, 32)      864       \n",
            "                                                                 \n",
            " conv1_bn (BatchNormalizati  (None, 112, 112, 32)      128       \n",
            " on)                                                             \n",
            "                                                                 \n",
            " conv1_relu (ReLU)           (None, 112, 112, 32)      0         \n",
            "                                                                 \n",
            " conv_dw_1 (DepthwiseConv2D  (None, 112, 112, 32)      288       \n",
            " )                                                               \n",
            "                                                                 \n",
            " conv_dw_1_bn (BatchNormali  (None, 112, 112, 32)      128       \n",
            " zation)                                                         \n",
            "                                                                 \n",
            " conv_dw_1_relu (ReLU)       (None, 112, 112, 32)      0         \n",
            "                                                                 \n",
            " conv_pw_1 (Conv2D)          (None, 112, 112, 64)      2048      \n",
            "                                                                 \n",
            " conv_pw_1_bn (BatchNormali  (None, 112, 112, 64)      256       \n",
            " zation)                                                         \n",
            "                                                                 \n",
            " conv_pw_1_relu (ReLU)       (None, 112, 112, 64)      0         \n",
            "                                                                 \n",
            " conv_pad_2 (ZeroPadding2D)  (None, 113, 113, 64)      0         \n",
            "                                                                 \n",
            " conv_dw_2 (DepthwiseConv2D  (None, 56, 56, 64)        576       \n",
            " )                                                               \n",
            "                                                                 \n",
            " conv_dw_2_bn (BatchNormali  (None, 56, 56, 64)        256       \n",
            " zation)                                                         \n",
            "                                                                 \n",
            " conv_dw_2_relu (ReLU)       (None, 56, 56, 64)        0         \n",
            "                                                                 \n",
            " conv_pw_2 (Conv2D)          (None, 56, 56, 128)       8192      \n",
            "                                                                 \n",
            " conv_pw_2_bn (BatchNormali  (None, 56, 56, 128)       512       \n",
            " zation)                                                         \n",
            "                                                                 \n",
            " conv_pw_2_relu (ReLU)       (None, 56, 56, 128)       0         \n",
            "                                                                 \n",
            " conv_dw_3 (DepthwiseConv2D  (None, 56, 56, 128)       1152      \n",
            " )                                                               \n",
            "                                                                 \n",
            " conv_dw_3_bn (BatchNormali  (None, 56, 56, 128)       512       \n",
            " zation)                                                         \n",
            "                                                                 \n",
            " conv_dw_3_relu (ReLU)       (None, 56, 56, 128)       0         \n",
            "                                                                 \n",
            " conv_pw_3 (Conv2D)          (None, 56, 56, 128)       16384     \n",
            "                                                                 \n",
            " conv_pw_3_bn (BatchNormali  (None, 56, 56, 128)       512       \n",
            " zation)                                                         \n",
            "                                                                 \n",
            " conv_pw_3_relu (ReLU)       (None, 56, 56, 128)       0         \n",
            "                                                                 \n",
            " conv_pad_4 (ZeroPadding2D)  (None, 57, 57, 128)       0         \n",
            "                                                                 \n",
            " conv_dw_4 (DepthwiseConv2D  (None, 28, 28, 128)       1152      \n",
            " )                                                               \n",
            "                                                                 \n",
            " conv_dw_4_bn (BatchNormali  (None, 28, 28, 128)       512       \n",
            " zation)                                                         \n",
            "                                                                 \n",
            " conv_dw_4_relu (ReLU)       (None, 28, 28, 128)       0         \n",
            "                                                                 \n",
            " conv_pw_4 (Conv2D)          (None, 28, 28, 256)       32768     \n",
            "                                                                 \n",
            " conv_pw_4_bn (BatchNormali  (None, 28, 28, 256)       1024      \n",
            " zation)                                                         \n",
            "                                                                 \n",
            " conv_pw_4_relu (ReLU)       (None, 28, 28, 256)       0         \n",
            "                                                                 \n",
            " conv_dw_5 (DepthwiseConv2D  (None, 28, 28, 256)       2304      \n",
            " )                                                               \n",
            "                                                                 \n",
            " conv_dw_5_bn (BatchNormali  (None, 28, 28, 256)       1024      \n",
            " zation)                                                         \n",
            "                                                                 \n",
            " conv_dw_5_relu (ReLU)       (None, 28, 28, 256)       0         \n",
            "                                                                 \n",
            " conv_pw_5 (Conv2D)          (None, 28, 28, 256)       65536     \n",
            "                                                                 \n",
            " conv_pw_5_bn (BatchNormali  (None, 28, 28, 256)       1024      \n",
            " zation)                                                         \n",
            "                                                                 \n",
            " conv_pw_5_relu (ReLU)       (None, 28, 28, 256)       0         \n",
            "                                                                 \n",
            " conv_pad_6 (ZeroPadding2D)  (None, 29, 29, 256)       0         \n",
            "                                                                 \n",
            " conv_dw_6 (DepthwiseConv2D  (None, 14, 14, 256)       2304      \n",
            " )                                                               \n",
            "                                                                 \n",
            " conv_dw_6_bn (BatchNormali  (None, 14, 14, 256)       1024      \n",
            " zation)                                                         \n",
            "                                                                 \n",
            " conv_dw_6_relu (ReLU)       (None, 14, 14, 256)       0         \n",
            "                                                                 \n",
            " conv_pw_6 (Conv2D)          (None, 14, 14, 512)       131072    \n",
            "                                                                 \n",
            " conv_pw_6_bn (BatchNormali  (None, 14, 14, 512)       2048      \n",
            " zation)                                                         \n",
            "                                                                 \n",
            " conv_pw_6_relu (ReLU)       (None, 14, 14, 512)       0         \n",
            "                                                                 \n",
            " conv_dw_7 (DepthwiseConv2D  (None, 14, 14, 512)       4608      \n",
            " )                                                               \n",
            "                                                                 \n",
            " conv_dw_7_bn (BatchNormali  (None, 14, 14, 512)       2048      \n",
            " zation)                                                         \n",
            "                                                                 \n",
            " conv_dw_7_relu (ReLU)       (None, 14, 14, 512)       0         \n",
            "                                                                 \n",
            " conv_pw_7 (Conv2D)          (None, 14, 14, 512)       262144    \n",
            "                                                                 \n",
            " conv_pw_7_bn (BatchNormali  (None, 14, 14, 512)       2048      \n",
            " zation)                                                         \n",
            "                                                                 \n",
            " conv_pw_7_relu (ReLU)       (None, 14, 14, 512)       0         \n",
            "                                                                 \n",
            " conv_dw_8 (DepthwiseConv2D  (None, 14, 14, 512)       4608      \n",
            " )                                                               \n",
            "                                                                 \n",
            " conv_dw_8_bn (BatchNormali  (None, 14, 14, 512)       2048      \n",
            " zation)                                                         \n",
            "                                                                 \n",
            " conv_dw_8_relu (ReLU)       (None, 14, 14, 512)       0         \n",
            "                                                                 \n",
            " conv_pw_8 (Conv2D)          (None, 14, 14, 512)       262144    \n",
            "                                                                 \n",
            " conv_pw_8_bn (BatchNormali  (None, 14, 14, 512)       2048      \n",
            " zation)                                                         \n",
            "                                                                 \n",
            " conv_pw_8_relu (ReLU)       (None, 14, 14, 512)       0         \n",
            "                                                                 \n",
            " conv_dw_9 (DepthwiseConv2D  (None, 14, 14, 512)       4608      \n",
            " )                                                               \n",
            "                                                                 \n",
            " conv_dw_9_bn (BatchNormali  (None, 14, 14, 512)       2048      \n",
            " zation)                                                         \n",
            "                                                                 \n",
            " conv_dw_9_relu (ReLU)       (None, 14, 14, 512)       0         \n",
            "                                                                 \n",
            " conv_pw_9 (Conv2D)          (None, 14, 14, 512)       262144    \n",
            "                                                                 \n",
            " conv_pw_9_bn (BatchNormali  (None, 14, 14, 512)       2048      \n",
            " zation)                                                         \n",
            "                                                                 \n",
            " conv_pw_9_relu (ReLU)       (None, 14, 14, 512)       0         \n",
            "                                                                 \n",
            " conv_dw_10 (DepthwiseConv2  (None, 14, 14, 512)       4608      \n",
            " D)                                                              \n",
            "                                                                 \n",
            " conv_dw_10_bn (BatchNormal  (None, 14, 14, 512)       2048      \n",
            " ization)                                                        \n",
            "                                                                 \n",
            " conv_dw_10_relu (ReLU)      (None, 14, 14, 512)       0         \n",
            "                                                                 \n",
            " conv_pw_10 (Conv2D)         (None, 14, 14, 512)       262144    \n",
            "                                                                 \n",
            " conv_pw_10_bn (BatchNormal  (None, 14, 14, 512)       2048      \n",
            " ization)                                                        \n",
            "                                                                 \n",
            " conv_pw_10_relu (ReLU)      (None, 14, 14, 512)       0         \n",
            "                                                                 \n",
            " conv_dw_11 (DepthwiseConv2  (None, 14, 14, 512)       4608      \n",
            " D)                                                              \n",
            "                                                                 \n",
            " conv_dw_11_bn (BatchNormal  (None, 14, 14, 512)       2048      \n",
            " ization)                                                        \n",
            "                                                                 \n",
            " conv_dw_11_relu (ReLU)      (None, 14, 14, 512)       0         \n",
            "                                                                 \n",
            " conv_pw_11 (Conv2D)         (None, 14, 14, 512)       262144    \n",
            "                                                                 \n",
            " conv_pw_11_bn (BatchNormal  (None, 14, 14, 512)       2048      \n",
            " ization)                                                        \n",
            "                                                                 \n",
            " conv_pw_11_relu (ReLU)      (None, 14, 14, 512)       0         \n",
            "                                                                 \n",
            " conv_pad_12 (ZeroPadding2D  (None, 15, 15, 512)       0         \n",
            " )                                                               \n",
            "                                                                 \n",
            " conv_dw_12 (DepthwiseConv2  (None, 7, 7, 512)         4608      \n",
            " D)                                                              \n",
            "                                                                 \n",
            " conv_dw_12_bn (BatchNormal  (None, 7, 7, 512)         2048      \n",
            " ization)                                                        \n",
            "                                                                 \n",
            " conv_dw_12_relu (ReLU)      (None, 7, 7, 512)         0         \n",
            "                                                                 \n",
            " conv_pw_12 (Conv2D)         (None, 7, 7, 1024)        524288    \n",
            "                                                                 \n",
            " conv_pw_12_bn (BatchNormal  (None, 7, 7, 1024)        4096      \n",
            " ization)                                                        \n",
            "                                                                 \n",
            " conv_pw_12_relu (ReLU)      (None, 7, 7, 1024)        0         \n",
            "                                                                 \n",
            " conv_dw_13 (DepthwiseConv2  (None, 7, 7, 1024)        9216      \n",
            " D)                                                              \n",
            "                                                                 \n",
            " conv_dw_13_bn (BatchNormal  (None, 7, 7, 1024)        4096      \n",
            " ization)                                                        \n",
            "                                                                 \n",
            " conv_dw_13_relu (ReLU)      (None, 7, 7, 1024)        0         \n",
            "                                                                 \n",
            " conv_pw_13 (Conv2D)         (None, 7, 7, 1024)        1048576   \n",
            "                                                                 \n",
            " conv_pw_13_bn (BatchNormal  (None, 7, 7, 1024)        4096      \n",
            " ization)                                                        \n",
            "                                                                 \n",
            " conv_pw_13_relu (ReLU)      (None, 7, 7, 1024)        0         \n",
            "                                                                 \n",
            " global_average_pooling2d_1  (None, 1024)              0         \n",
            "  (GlobalAveragePooling2D)                                       \n",
            "                                                                 \n",
            " dense (Dense)               (None, 64)                65600     \n",
            "                                                                 \n",
            " dropout (Dropout)           (None, 64)                0         \n",
            "                                                                 \n",
            " dense_1 (Dense)             (None, 128)               8320      \n",
            "                                                                 \n",
            " dropout_1 (Dropout)         (None, 128)               0         \n",
            "                                                                 \n",
            " dense_2 (Dense)             (None, 256)               33024     \n",
            "                                                                 \n",
            " dropout_2 (Dropout)         (None, 256)               0         \n",
            "                                                                 \n",
            " dense_3 (Dense)             (None, 128)               32896     \n",
            "                                                                 \n",
            " dropout_3 (Dropout)         (None, 128)               0         \n",
            "                                                                 \n",
            " dense_4 (Dense)             (None, 3)                 387       \n",
            "                                                                 \n",
            "=================================================================\n",
            "Total params: 3369091 (12.85 MB)\n",
            "Trainable params: 140227 (547.76 KB)\n",
            "Non-trainable params: 3228864 (12.32 MB)\n",
            "_________________________________________________________________\n"
          ]
        }
      ],
      "source": [
        "x = tf.keras.layers.GlobalAveragePooling2D()(base_model.output)\n",
        "x = tf.keras.layers.Dense(64, activation='relu')(x)\n",
        "x = tf.keras.layers.Dropout(0.2)(x)\n",
        "x = tf.keras.layers.Dense(128, activation='relu')(x)\n",
        "x = tf.keras.layers.Dropout(0.2)(x)\n",
        "x = tf.keras.layers.Dense(256, activation='relu')(x)\n",
        "x = tf.keras.layers.Dropout(0.2)(x)\n",
        "x = tf.keras.layers.Dense(128, activation='relu')(x)\n",
        "x = tf.keras.layers.Dropout(0.2)(x)\n",
        "x = tf.keras.layers.Dense(3, activation='softmax')(x)\n",
        "\n",
        "model = tf.keras.Model(inputs=base_model.input, outputs=x)\n",
        "model.summary()"
      ]
    },
    {
      "cell_type": "markdown",
      "metadata": {
        "id": "fRGdJW1sb-Ym"
      },
      "source": [
        "## Compile Model"
      ]
    },
    {
      "cell_type": "code",
      "execution_count": null,
      "metadata": {
        "id": "b1_ZTzx4b49z"
      },
      "outputs": [],
      "source": [
        "# membuat compile model\n",
        "model.compile(\n",
        "    optimizer=Adam(learning_rate=0.001),\n",
        "    loss='categorical_crossentropy',\n",
        "    metrics= [Recall(), Precision(), \"accuracy\"]\n",
        ")"
      ]
    },
    {
      "cell_type": "markdown",
      "metadata": {
        "id": "K7WroOL_cVEZ"
      },
      "source": [
        "## Membuat Callback"
      ]
    },
    {
      "cell_type": "code",
      "execution_count": null,
      "metadata": {
        "id": "7NPrz1pVcUgH"
      },
      "outputs": [],
      "source": [
        "# membuat callback\n",
        "model_callback = EarlyStopping(\n",
        "    monitor = 'accuracy',\n",
        "    verbose = 1,\n",
        "    mode = 'max',\n",
        "    patience = 10\n",
        ")"
      ]
    },
    {
      "cell_type": "markdown",
      "metadata": {
        "id": "3U4k6-ZmcqHN"
      },
      "source": [
        "## Membuat Fit Model"
      ]
    },
    {
      "cell_type": "code",
      "execution_count": null,
      "metadata": {
        "colab": {
          "base_uri": "https://localhost:8080/"
        },
        "id": "PPa7-DkcdCP6",
        "outputId": "cb1e62ec-fb1a-4554-a99d-94ae778b06a6"
      },
      "outputs": [
        {
          "output_type": "stream",
          "name": "stdout",
          "text": [
            "Epoch 1/50\n",
            "25/25 [==============================] - 370s 15s/step - loss: 0.7835 - recall: 0.4412 - precision: 0.6935 - accuracy: 0.5925 - val_loss: 0.5560 - val_recall: 0.7050 - val_precision: 0.7268 - val_accuracy: 0.7050\n",
            "Epoch 2/50\n",
            "25/25 [==============================] - 74s 3s/step - loss: 0.5347 - recall: 0.6950 - precision: 0.7394 - accuracy: 0.7212 - val_loss: 0.4626 - val_recall: 0.7250 - val_precision: 0.7967 - val_accuracy: 0.7550\n",
            "Epoch 3/50\n",
            "25/25 [==============================] - 79s 3s/step - loss: 0.4314 - recall: 0.7638 - precision: 0.7935 - accuracy: 0.7862 - val_loss: 0.3357 - val_recall: 0.8250 - val_precision: 0.8333 - val_accuracy: 0.8250\n",
            "Epoch 4/50\n",
            "25/25 [==============================] - 74s 3s/step - loss: 0.3684 - recall: 0.8213 - precision: 0.8348 - accuracy: 0.8275 - val_loss: 0.2943 - val_recall: 0.8700 - val_precision: 0.8744 - val_accuracy: 0.8700\n",
            "Epoch 5/50\n",
            "25/25 [==============================] - 86s 3s/step - loss: 0.3440 - recall: 0.8388 - precision: 0.8483 - accuracy: 0.8438 - val_loss: 0.2560 - val_recall: 0.8700 - val_precision: 0.8832 - val_accuracy: 0.8850\n",
            "Epoch 6/50\n",
            "25/25 [==============================] - 75s 3s/step - loss: 0.3099 - recall: 0.8625 - precision: 0.8701 - accuracy: 0.8662 - val_loss: 0.2858 - val_recall: 0.8600 - val_precision: 0.8643 - val_accuracy: 0.8650\n",
            "Epoch 7/50\n",
            "25/25 [==============================] - 77s 3s/step - loss: 0.2462 - recall: 0.8888 - precision: 0.8910 - accuracy: 0.8888 - val_loss: 0.2698 - val_recall: 0.8600 - val_precision: 0.8643 - val_accuracy: 0.8600\n",
            "Epoch 8/50\n",
            "25/25 [==============================] - 87s 4s/step - loss: 0.2680 - recall: 0.8825 - precision: 0.8903 - accuracy: 0.8863 - val_loss: 0.2104 - val_recall: 0.9150 - val_precision: 0.9196 - val_accuracy: 0.9150\n",
            "Epoch 9/50\n",
            "25/25 [==============================] - 72s 3s/step - loss: 0.2417 - recall: 0.9025 - precision: 0.9070 - accuracy: 0.9050 - val_loss: 0.2146 - val_recall: 0.9100 - val_precision: 0.9146 - val_accuracy: 0.9100\n",
            "Epoch 10/50\n",
            "25/25 [==============================] - 74s 3s/step - loss: 0.2242 - recall: 0.9000 - precision: 0.9023 - accuracy: 0.9013 - val_loss: 0.2422 - val_recall: 0.8950 - val_precision: 0.8950 - val_accuracy: 0.8950\n",
            "Epoch 11/50\n",
            "25/25 [==============================] - 82s 3s/step - loss: 0.1917 - recall: 0.9137 - precision: 0.9149 - accuracy: 0.9137 - val_loss: 0.2744 - val_recall: 0.8700 - val_precision: 0.8744 - val_accuracy: 0.8700\n",
            "Epoch 12/50\n",
            "25/25 [==============================] - 87s 4s/step - loss: 0.2131 - recall: 0.9087 - precision: 0.9099 - accuracy: 0.9087 - val_loss: 0.2514 - val_recall: 0.8750 - val_precision: 0.8750 - val_accuracy: 0.8750\n",
            "Epoch 13/50\n",
            "25/25 [==============================] - 78s 3s/step - loss: 0.2286 - recall: 0.8938 - precision: 0.8960 - accuracy: 0.8950 - val_loss: 0.2339 - val_recall: 0.8950 - val_precision: 0.8995 - val_accuracy: 0.8950\n",
            "Epoch 14/50\n",
            "25/25 [==============================] - 77s 3s/step - loss: 0.2229 - recall: 0.8913 - precision: 0.8913 - accuracy: 0.8913 - val_loss: 0.2715 - val_recall: 0.8750 - val_precision: 0.8750 - val_accuracy: 0.8750\n",
            "Epoch 15/50\n",
            "25/25 [==============================] - 73s 3s/step - loss: 0.2126 - recall: 0.9025 - precision: 0.9036 - accuracy: 0.9038 - val_loss: 0.2899 - val_recall: 0.8450 - val_precision: 0.8450 - val_accuracy: 0.8450\n",
            "Epoch 16/50\n",
            "25/25 [==============================] - 75s 3s/step - loss: 0.2120 - recall: 0.9112 - precision: 0.9181 - accuracy: 0.9125 - val_loss: 0.3607 - val_recall: 0.8350 - val_precision: 0.8392 - val_accuracy: 0.8350\n",
            "Epoch 17/50\n",
            "25/25 [==============================] - 84s 3s/step - loss: 0.1684 - recall: 0.9150 - precision: 0.9184 - accuracy: 0.9162 - val_loss: 0.2293 - val_recall: 0.8900 - val_precision: 0.8945 - val_accuracy: 0.8950\n",
            "Epoch 18/50\n",
            "25/25 [==============================] - 79s 3s/step - loss: 0.1611 - recall: 0.9287 - precision: 0.9311 - accuracy: 0.9300 - val_loss: 0.3390 - val_recall: 0.8650 - val_precision: 0.8650 - val_accuracy: 0.8650\n",
            "Epoch 19/50\n",
            "25/25 [==============================] - 76s 3s/step - loss: 0.1667 - recall: 0.9375 - precision: 0.9375 - accuracy: 0.9375 - val_loss: 0.3157 - val_recall: 0.8550 - val_precision: 0.8550 - val_accuracy: 0.8550\n",
            "Epoch 20/50\n",
            "25/25 [==============================] - 76s 3s/step - loss: 0.1805 - recall: 0.9100 - precision: 0.9123 - accuracy: 0.9100 - val_loss: 0.2512 - val_recall: 0.9000 - val_precision: 0.9000 - val_accuracy: 0.9000\n",
            "Epoch 21/50\n",
            "25/25 [==============================] - 89s 4s/step - loss: 0.2016 - recall: 0.9137 - precision: 0.9149 - accuracy: 0.9137 - val_loss: 0.4946 - val_recall: 0.7700 - val_precision: 0.7700 - val_accuracy: 0.7700\n",
            "Epoch 22/50\n",
            "25/25 [==============================] - 74s 3s/step - loss: 0.2041 - recall: 0.9087 - precision: 0.9122 - accuracy: 0.9087 - val_loss: 0.1951 - val_recall: 0.9000 - val_precision: 0.9000 - val_accuracy: 0.9000\n",
            "Epoch 23/50\n",
            "25/25 [==============================] - 78s 3s/step - loss: 0.1909 - recall: 0.9087 - precision: 0.9133 - accuracy: 0.9087 - val_loss: 0.2104 - val_recall: 0.9000 - val_precision: 0.9045 - val_accuracy: 0.9000\n",
            "Epoch 24/50\n",
            "25/25 [==============================] - 78s 3s/step - loss: 0.1764 - recall: 0.9162 - precision: 0.9185 - accuracy: 0.9175 - val_loss: 0.2568 - val_recall: 0.9050 - val_precision: 0.9095 - val_accuracy: 0.9100\n",
            "Epoch 25/50\n",
            "25/25 [==============================] - 84s 3s/step - loss: 0.1857 - recall: 0.9225 - precision: 0.9237 - accuracy: 0.9237 - val_loss: 0.3092 - val_recall: 0.8900 - val_precision: 0.8900 - val_accuracy: 0.8900\n",
            "Epoch 26/50\n",
            "25/25 [==============================] - 76s 3s/step - loss: 0.1632 - recall: 0.9287 - precision: 0.9311 - accuracy: 0.9300 - val_loss: 0.2756 - val_recall: 0.8950 - val_precision: 0.8950 - val_accuracy: 0.8950\n",
            "Epoch 27/50\n",
            "25/25 [==============================] - 70s 3s/step - loss: 0.1839 - recall: 0.9175 - precision: 0.9186 - accuracy: 0.9187 - val_loss: 0.2422 - val_recall: 0.8950 - val_precision: 0.8950 - val_accuracy: 0.8950\n",
            "Epoch 28/50\n",
            "25/25 [==============================] - 78s 3s/step - loss: 0.1507 - recall: 0.9300 - precision: 0.9323 - accuracy: 0.9325 - val_loss: 0.3231 - val_recall: 0.8800 - val_precision: 0.8800 - val_accuracy: 0.8800\n",
            "Epoch 29/50\n",
            "25/25 [==============================] - 84s 3s/step - loss: 0.1257 - recall: 0.9425 - precision: 0.9425 - accuracy: 0.9425 - val_loss: 0.4145 - val_recall: 0.8550 - val_precision: 0.8550 - val_accuracy: 0.8550\n",
            "Epoch 30/50\n",
            "25/25 [==============================] - 71s 3s/step - loss: 0.1623 - recall: 0.9300 - precision: 0.9300 - accuracy: 0.9300 - val_loss: 0.2505 - val_recall: 0.9000 - val_precision: 0.9000 - val_accuracy: 0.9000\n",
            "Epoch 31/50\n",
            "25/25 [==============================] - 77s 3s/step - loss: 0.1441 - recall: 0.9425 - precision: 0.9437 - accuracy: 0.9425 - val_loss: 0.2574 - val_recall: 0.8800 - val_precision: 0.8844 - val_accuracy: 0.8800\n",
            "Epoch 32/50\n",
            "25/25 [==============================] - 76s 3s/step - loss: 0.1519 - recall: 0.9237 - precision: 0.9249 - accuracy: 0.9250 - val_loss: 0.4271 - val_recall: 0.8550 - val_precision: 0.8550 - val_accuracy: 0.8550\n",
            "Epoch 33/50\n",
            "25/25 [==============================] - 84s 3s/step - loss: 0.1793 - recall: 0.9187 - precision: 0.9199 - accuracy: 0.9187 - val_loss: 0.2368 - val_recall: 0.8950 - val_precision: 0.8950 - val_accuracy: 0.8950\n",
            "Epoch 34/50\n",
            "25/25 [==============================] - 78s 3s/step - loss: 0.1320 - recall: 0.9463 - precision: 0.9486 - accuracy: 0.9475 - val_loss: 0.2603 - val_recall: 0.9100 - val_precision: 0.9100 - val_accuracy: 0.9100\n",
            "Epoch 35/50\n",
            "25/25 [==============================] - 72s 3s/step - loss: 0.1166 - recall: 0.9425 - precision: 0.9449 - accuracy: 0.9438 - val_loss: 0.2494 - val_recall: 0.8950 - val_precision: 0.9040 - val_accuracy: 0.9000\n",
            "Epoch 36/50\n",
            "25/25 [==============================] - 77s 3s/step - loss: 0.1400 - recall: 0.9425 - precision: 0.9425 - accuracy: 0.9425 - val_loss: 0.3720 - val_recall: 0.8650 - val_precision: 0.8693 - val_accuracy: 0.8700\n",
            "Epoch 37/50\n",
            "25/25 [==============================] - 79s 3s/step - loss: 0.1522 - recall: 0.9375 - precision: 0.9387 - accuracy: 0.9388 - val_loss: 0.2118 - val_recall: 0.9100 - val_precision: 0.9100 - val_accuracy: 0.9100\n",
            "Epoch 38/50\n",
            "25/25 [==============================] - 83s 3s/step - loss: 0.1563 - recall: 0.9262 - precision: 0.9262 - accuracy: 0.9262 - val_loss: 0.2437 - val_recall: 0.9050 - val_precision: 0.9095 - val_accuracy: 0.9050\n",
            "Epoch 39/50\n",
            "25/25 [==============================] - 73s 3s/step - loss: 0.1473 - recall: 0.9262 - precision: 0.9286 - accuracy: 0.9287 - val_loss: 0.2380 - val_recall: 0.9100 - val_precision: 0.9100 - val_accuracy: 0.9100\n",
            "Epoch 40/50\n",
            "25/25 [==============================] - 77s 3s/step - loss: 0.1074 - recall: 0.9488 - precision: 0.9488 - accuracy: 0.9488 - val_loss: 0.2601 - val_recall: 0.9000 - val_precision: 0.9000 - val_accuracy: 0.9000\n",
            "Epoch 41/50\n",
            "25/25 [==============================] - 75s 3s/step - loss: 0.1235 - recall: 0.9500 - precision: 0.9500 - accuracy: 0.9500 - val_loss: 0.2033 - val_recall: 0.9200 - val_precision: 0.9200 - val_accuracy: 0.9200\n",
            "Epoch 42/50\n",
            "25/25 [==============================] - 85s 3s/step - loss: 0.1204 - recall: 0.9550 - precision: 0.9550 - accuracy: 0.9550 - val_loss: 0.2944 - val_recall: 0.9050 - val_precision: 0.9050 - val_accuracy: 0.9050\n",
            "Epoch 43/50\n",
            "25/25 [==============================] - 80s 3s/step - loss: 0.0990 - recall: 0.9625 - precision: 0.9625 - accuracy: 0.9625 - val_loss: 0.2711 - val_recall: 0.9050 - val_precision: 0.9050 - val_accuracy: 0.9050\n",
            "Epoch 44/50\n",
            "25/25 [==============================] - 77s 3s/step - loss: 0.1121 - recall: 0.9475 - precision: 0.9487 - accuracy: 0.9475 - val_loss: 0.3000 - val_recall: 0.9050 - val_precision: 0.9050 - val_accuracy: 0.9050\n",
            "Epoch 45/50\n",
            "25/25 [==============================] - 82s 3s/step - loss: 0.0951 - recall: 0.9638 - precision: 0.9638 - accuracy: 0.9638 - val_loss: 0.4011 - val_recall: 0.8950 - val_precision: 0.8995 - val_accuracy: 0.8950\n",
            "Epoch 46/50\n",
            "25/25 [==============================] - 71s 3s/step - loss: 0.1314 - recall: 0.9438 - precision: 0.9438 - accuracy: 0.9438 - val_loss: 0.2849 - val_recall: 0.9150 - val_precision: 0.9150 - val_accuracy: 0.9150\n",
            "Epoch 47/50\n",
            "25/25 [==============================] - 76s 3s/step - loss: 0.0980 - recall: 0.9563 - precision: 0.9574 - accuracy: 0.9563 - val_loss: 0.2804 - val_recall: 0.8950 - val_precision: 0.8950 - val_accuracy: 0.8950\n",
            "Epoch 48/50\n",
            "25/25 [==============================] - 76s 3s/step - loss: 0.0989 - recall: 0.9500 - precision: 0.9500 - accuracy: 0.9500 - val_loss: 0.2895 - val_recall: 0.9050 - val_precision: 0.9050 - val_accuracy: 0.9050\n",
            "Epoch 49/50\n",
            "25/25 [==============================] - 83s 3s/step - loss: 0.1034 - recall: 0.9563 - precision: 0.9563 - accuracy: 0.9563 - val_loss: 0.2814 - val_recall: 0.9000 - val_precision: 0.9000 - val_accuracy: 0.9000\n",
            "Epoch 50/50\n",
            "25/25 [==============================] - 77s 3s/step - loss: 0.1093 - recall: 0.9575 - precision: 0.9575 - accuracy: 0.9575 - val_loss: 0.3418 - val_recall: 0.9000 - val_precision: 0.9000 - val_accuracy: 0.9000\n"
          ]
        }
      ],
      "source": [
        "# membuat fit model\n",
        "history = model.fit(\n",
        "    train_data,\n",
        "    validation_data = valid_data,\n",
        "    epochs = 50,\n",
        "    steps_per_epoch = 25,\n",
        "    callbacks = [model_callback],\n",
        "    verbose = 1\n",
        ")"
      ]
    },
    {
      "cell_type": "markdown",
      "metadata": {
        "id": "0muZtuoFdHO8"
      },
      "source": [
        "## Evaluasi"
      ]
    },
    {
      "cell_type": "code",
      "execution_count": null,
      "metadata": {
        "colab": {
          "base_uri": "https://localhost:8080/"
        },
        "id": "HaF6-TXodfHx",
        "outputId": "f47dede8-8d12-4941-8701-8d56ffe5c5e3"
      },
      "outputs": [
        {
          "output_type": "stream",
          "name": "stdout",
          "text": [
            "7/7 [==============================] - 10s 1s/step - loss: 0.3418 - recall: 0.9000 - precision: 0.9000 - accuracy: 0.9000\n"
          ]
        },
        {
          "output_type": "execute_result",
          "data": {
            "text/plain": [
              "[0.3417946696281433,\n",
              " 0.8999999761581421,\n",
              " 0.8999999761581421,\n",
              " 0.8999999761581421]"
            ]
          },
          "metadata": {},
          "execution_count": 12
        }
      ],
      "source": [
        "# evaluasi hasil model kalian disini\n",
        "model.evaluate(valid_data)"
      ]
    },
    {
      "cell_type": "code",
      "execution_count": null,
      "metadata": {
        "colab": {
          "base_uri": "https://localhost:8080/",
          "height": 333
        },
        "id": "HCdroWGntlbg",
        "outputId": "de001852-dd38-4801-a66c-a214d02da3c4"
      },
      "outputs": [
        {
          "output_type": "display_data",
          "data": {
            "text/plain": [
              "<Figure size 800x300 with 1 Axes>"
            ],
            "image/png": "[encoded data removed]"
          },
          "metadata": {}
        }
      ],
      "source": [
        "import matplotlib.pyplot as plt\n",
        "\n",
        "plt.figure(figsize=(8, 3))\n",
        "plt.plot(history.epoch, history.history['accuracy'])\n",
        "plt.plot(history.epoch, history.history['val_accuracy'])\n",
        "plt.legend(['train accuracy', 'val accuracy'])\n",
        "plt.title('accuracy Diagram')\n",
        "plt.xlabel('Epoch(s)')\n",
        "plt.ylabel('accuracy')\n",
        "plt.grid(True)\n",
        "plt.show()"
      ]
    },
    {
      "cell_type": "code",
      "source": [
        "from sklearn.metrics import classification_report, confusion_matrix\n",
        "labels"
      ],
      "metadata": {
        "id": "A7SHpX3H076o"
      },
      "execution_count": null,
      "outputs": []
    },
    {
      "cell_type": "code",
      "source": [
        "model = tf.keras.models.load_model('/content/drive/MyDrive/Skripsi/model/myModel2(original_es_mobilenet).h5')"
      ],
      "metadata": {
        "id": "iilizvrX09Ix"
      },
      "execution_count": null,
      "outputs": []
    },
    {
      "cell_type": "code",
      "source": [
        "y_test = valid_data.classes\n",
        "y_pred = model.predict(valid_data)\n",
        "y_pred_probs = y_pred.copy()"
      ],
      "metadata": {
        "id": "hpXvsnqw0-ZO"
      },
      "execution_count": null,
      "outputs": []
    },
    {
      "cell_type": "code",
      "source": [
        "y_test"
      ],
      "metadata": {
        "id": "YqWAgxhV0_aW"
      },
      "execution_count": null,
      "outputs": []
    },
    {
      "cell_type": "code",
      "source": [
        "y_pred_int = np.argmax(y_pred_probs, axis=1)"
      ],
      "metadata": {
        "id": "QBBlO_OD1A_e"
      },
      "execution_count": null,
      "outputs": []
    },
    {
      "cell_type": "code",
      "source": [
        "print(classification_report(y_test,y_pred_int,target_names = labels))"
      ],
      "metadata": {
        "id": "APF64Ajw1CsQ"
      },
      "execution_count": null,
      "outputs": []
    },
    {
      "cell_type": "code",
      "source": [
        "plt.figure(figsize=(10,8))\n",
        "sns.heatmap(confusion_matrix(y_test,y_pred_int),annot=True,fmt='.3g',xticklabels=labels,\n",
        "            yticklabels=labels,cmap='Blues')\n",
        "plt.show()"
      ],
      "metadata": {
        "id": "YCURu_KK1ETi"
      },
      "execution_count": null,
      "outputs": []
    },
    {
      "cell_type": "markdown",
      "metadata": {
        "id": "gzBsSrO-dmY3"
      },
      "source": [
        "# Simpan Model"
      ]
    },
    {
      "cell_type": "code",
      "execution_count": null,
      "metadata": {
        "id": "Q-kKUAGgdrZ3",
        "colab": {
          "base_uri": "https://localhost:8080/"
        },
        "outputId": "219c8192-b3e4-401f-b559-b1823df099ca"
      },
      "outputs": [
        {
          "output_type": "stream",
          "name": "stderr",
          "text": [
            "/usr/local/lib/python3.10/dist-packages/keras/src/engine/training.py:3103: UserWarning: You are saving your model as an HDF5 file via `model.save()`. This file format is considered legacy. We recommend using instead the native Keras format, e.g. `model.save('my_model.keras')`.\n",
            "  saving_api.save_model(\n"
          ]
        }
      ],
      "source": [
        "# save model\n",
        "model.save('/content/drive/MyDrive/Skripsi/model/myModel2(modif_es_mobilenet).h5')"
      ]
    },
    {
      "cell_type": "code",
      "execution_count": null,
      "metadata": {
        "id": "ApdyFNlRt0Ps"
      },
      "outputs": [],
      "source": [
        "from tensorflow.keras.models import load_model\n",
        "from tensorflow.keras.preprocessing import image\n",
        "\n",
        "path_model_save = 'myModel.h5'\n",
        "loaded_model = load_model(path_model_save)"
      ]
    },
    {
      "cell_type": "markdown",
      "metadata": {
        "id": "Lx_iumXEd25y"
      },
      "source": [
        "## Load Model dan Jalankan Model"
      ]
    },
    {
      "cell_type": "code",
      "execution_count": null,
      "metadata": {
        "colab": {
          "base_uri": "https://localhost:8080/",
          "height": 111
        },
        "id": "zUkDZTxhd2bi",
        "outputId": "29ddb8d6-63a6-453f-ec3d-21941c2cfe4d"
      },
      "outputs": [
        {
          "data": {
            "text/html": [
              "\n",
              "     <input type=\"file\" id=\"files-bd76de54-a14a-4386-8963-74406376cc24\" name=\"files[]\" multiple disabled\n",
              "        style=\"border:none\" />\n",
              "     <output id=\"result-bd76de54-a14a-4386-8963-74406376cc24\">\n",
              "      Upload widget is only available when the cell has been executed in the\n",
              "      current browser session. Please rerun this cell to enable.\n",
              "      </output>\n",
              "      <script>// Copyright 2017 Google LLC\n",
              "//\n",
              "// Licensed under the Apache License, Version 2.0 (the \"License\");\n",
              "// you may not use this file except in compliance with the License.\n",
              "// You may obtain a copy of the License at\n",
              "//\n",
              "//      http://www.apache.org/licenses/LICENSE-2.0\n",
              "//\n",
              "// Unless required by applicable law or agreed to in writing, software\n",
              "// distributed under the License is distributed on an \"AS IS\" BASIS,\n",
              "// WITHOUT WARRANTIES OR CONDITIONS OF ANY KIND, either express or implied.\n",
              "// See the License for the specific language governing permissions and\n",
              "// limitations under the License.\n",
              "\n",
              "/**\n",
              " * @fileoverview Helpers for google.colab Python module.\n",
              " */\n",
              "(function(scope) {\n",
              "function span(text, styleAttributes = {}) {\n",
              "  const element = document.createElement('span');\n",
              "  element.textContent = text;\n",
              "  for (const key of Object.keys(styleAttributes)) {\n",
              "    element.style[key] = styleAttributes[key];\n",
              "  }\n",
              "  return element;\n",
              "}\n",
              "\n",
              "// Max number of bytes which will be uploaded at a time.\n",
              "const MAX_PAYLOAD_SIZE = 100 * 1024;\n",
              "\n",
              "function _uploadFiles(inputId, outputId) {\n",
              "  const steps = uploadFilesStep(inputId, outputId);\n",
              "  const outputElement = document.getElementById(outputId);\n",
              "  // Cache steps on the outputElement to make it available for the next call\n",
              "  // to uploadFilesContinue from Python.\n",
              "  outputElement.steps = steps;\n",
              "\n",
              "  return _uploadFilesContinue(outputId);\n",
              "}\n",
              "\n",
              "// This is roughly an async generator (not supported in the browser yet),\n",
              "// where there are multiple asynchronous steps and the Python side is going\n",
              "// to poll for completion of each step.\n",
              "// This uses a Promise to block the python side on completion of each step,\n",
              "// then passes the result of the previous step as the input to the next step.\n",
              "function _uploadFilesContinue(outputId) {\n",
              "  const outputElement = document.getElementById(outputId);\n",
              "  const steps = outputElement.steps;\n",
              "\n",
              "  const next = steps.next(outputElement.lastPromiseValue);\n",
              "  return Promise.resolve(next.value.promise).then((value) => {\n",
              "    // Cache the last promise value to make it available to the next\n",
              "    // step of the generator.\n",
              "    outputElement.lastPromiseValue = value;\n",
              "    return next.value.response;\n",
              "  });\n",
              "}\n",
              "\n",
              "/**\n",
              " * Generator function which is called between each async step of the upload\n",
              " * process.\n",
              " * @param {string} inputId Element ID of the input file picker element.\n",
              " * @param {string} outputId Element ID of the output display.\n",
              " * @return {!Iterable<!Object>} Iterable of next steps.\n",
              " */\n",
              "function* uploadFilesStep(inputId, outputId) {\n",
              "  const inputElement = document.getElementById(inputId);\n",
              "  inputElement.disabled = false;\n",
              "\n",
              "  const outputElement = document.getElementById(outputId);\n",
              "  outputElement.innerHTML = '';\n",
              "\n",
              "  const pickedPromise = new Promise((resolve) => {\n",
              "    inputElement.addEventListener('change', (e) => {\n",
              "      resolve(e.target.files);\n",
              "    });\n",
              "  });\n",
              "\n",
              "  const cancel = document.createElement('button');\n",
              "  inputElement.parentElement.appendChild(cancel);\n",
              "  cancel.textContent = 'Cancel upload';\n",
              "  const cancelPromise = new Promise((resolve) => {\n",
              "    cancel.onclick = () => {\n",
              "      resolve(null);\n",
              "    };\n",
              "  });\n",
              "\n",
              "  // Wait for the user to pick the files.\n",
              "  const files = yield {\n",
              "    promise: Promise.race([pickedPromise, cancelPromise]),\n",
              "    response: {\n",
              "      action: 'starting',\n",
              "    }\n",
              "  };\n",
              "\n",
              "  cancel.remove();\n",
              "\n",
              "  // Disable the input element since further picks are not allowed.\n",
              "  inputElement.disabled = true;\n",
              "\n",
              "  if (!files) {\n",
              "    return {\n",
              "      response: {\n",
              "        action: 'complete',\n",
              "      }\n",
              "    };\n",
              "  }\n",
              "\n",
              "  for (const file of files) {\n",
              "    const li = document.createElement('li');\n",
              "    li.append(span(file.name, {fontWeight: 'bold'}));\n",
              "    li.append(span(\n",
              "        `(${file.type || 'n/a'}) - ${file.size} bytes, ` +\n",
              "        `last modified: ${\n",
              "            file.lastModifiedDate ? file.lastModifiedDate.toLocaleDateString() :\n",
              "                                    'n/a'} - `));\n",
              "    const percent = span('0% done');\n",
              "    li.appendChild(percent);\n",
              "\n",
              "    outputElement.appendChild(li);\n",
              "\n",
              "    const fileDataPromise = new Promise((resolve) => {\n",
              "      const reader = new FileReader();\n",
              "      reader.onload = (e) => {\n",
              "        resolve(e.target.result);\n",
              "      };\n",
              "      reader.readAsArrayBuffer(file);\n",
              "    });\n",
              "    // Wait for the data to be ready.\n",
              "    let fileData = yield {\n",
              "      promise: fileDataPromise,\n",
              "      response: {\n",
              "        action: 'continue',\n",
              "      }\n",
              "    };\n",
              "\n",
              "    // Use a chunked sending to avoid message size limits. See b/62115660.\n",
              "    let position = 0;\n",
              "    do {\n",
              "      const length = Math.min(fileData.byteLength - position, MAX_PAYLOAD_SIZE);\n",
              "      const chunk = new Uint8Array(fileData, position, length);\n",
              "      position += length;\n",
              "\n",
              "      const base64 = btoa(String.fromCharCode.apply(null, chunk));\n",
              "      yield {\n",
              "        response: {\n",
              "          action: 'append',\n",
              "          file: file.name,\n",
              "          data: base64,\n",
              "        },\n",
              "      };\n",
              "\n",
              "      let percentDone = fileData.byteLength === 0 ?\n",
              "          100 :\n",
              "          Math.round((position / fileData.byteLength) * 100);\n",
              "      percent.textContent = `${percentDone}% done`;\n",
              "\n",
              "    } while (position < fileData.byteLength);\n",
              "  }\n",
              "\n",
              "  // All done.\n",
              "  yield {\n",
              "    response: {\n",
              "      action: 'complete',\n",
              "    }\n",
              "  };\n",
              "}\n",
              "\n",
              "scope.google = scope.google || {};\n",
              "scope.google.colab = scope.google.colab || {};\n",
              "scope.google.colab._files = {\n",
              "  _uploadFiles,\n",
              "  _uploadFilesContinue,\n",
              "};\n",
              "})(self);\n",
              "</script> "
            ],
            "text/plain": [
              "<IPython.core.display.HTML object>"
            ]
          },
          "metadata": {},
          "output_type": "display_data"
        },
        {
          "name": "stdout",
          "output_type": "stream",
          "text": [
            "Saving download.jPG to download.jPG\n",
            "1/1 [==============================] - 0s 26ms/step\n",
            "Pisang Mentah\n"
          ]
        }
      ],
      "source": [
        "%matplotlib inline\n",
        "import matplotlib.pyplot as plt\n",
        "import numpy as np\n",
        "from google.colab import files\n",
        "from tensorflow.keras.preprocessing import image\n",
        "\n",
        "uploaded = files.upload()\n",
        "\n",
        "for fn in uploaded.keys():\n",
        "\n",
        "  # predicting images\n",
        "  img_path = '/content/' + fn\n",
        "  img = image.load_img(img_path, target_size=(224, 224));\n",
        "  img_array = image.img_to_array(img)\n",
        "  img_array = np.expand_dims(img_array, axis=0)\n",
        "\n",
        "  classes = loaded_model.predict(img_array/255);\n",
        "\n",
        "  for i, class_ in enumerate(classes[0]):\n",
        "      if class_ == classes[0].max():\n",
        "          if i == 0:\n",
        "              print(\"Pisang Busuk\")\n",
        "          elif i == 1:\n",
        "              print(\"Pisang Masak\")\n",
        "          else:\n",
        "              print(\"Pisang Mentah\")"
      ]
    }
  ],
  "metadata": {
    "accelerator": "GPU",
    "colab": {
      "gpuType": "T4",
      "provenance": [],
      "include_colab_link": true
    },
    "kernelspec": {
      "display_name": "Python 3",
      "name": "python3"
    },
    "language_info": {
      "name": "python"
    }
  },
  "nbformat": 4,
  "nbformat_minor": 0
}
